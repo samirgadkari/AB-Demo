{
  "nbformat": 4,
  "nbformat_minor": 0,
  "metadata": {
    "colab": {
      "name": "LS_DS_433_Keras_Assignment.ipynb",
      "version": "0.3.2",
      "provenance": [],
      "collapsed_sections": [],
      "include_colab_link": true
    },
    "kernelspec": {
      "name": "python3",
      "display_name": "Python 3"
    },
    "accelerator": "TPU"
  },
  "cells": [
    {
      "cell_type": "markdown",
      "metadata": {
        "id": "view-in-github",
        "colab_type": "text"
      },
      "source": [
        "<a href=\"https://colab.research.google.com/github/samirgadkari/AB-Demo/blob/master/module3-Intro-to-Keras/LS_DS_433_Keras_Assignment.ipynb\" target=\"_parent\"><img src=\"https://colab.research.google.com/assets/colab-badge.svg\" alt=\"Open In Colab\"/></a>"
      ]
    },
    {
      "metadata": {
        "id": "pBQsZEJmubLs",
        "colab_type": "text"
      },
      "cell_type": "markdown",
      "source": [
        "## Use the Keras Library to build a Multi-Layer Perceptron Model on the Boston Housing dataset\n",
        "\n",
        "- The Boston Housing dataset comes with the Keras library so use Keras to import it into your notebook. \n",
        "- Normalize the data (all features should have roughly the same scale)\n",
        "- Import the type of model and layers that you will need from Keras.\n",
        "- Instantiate a model object and use `model.add()` to add layers to your model\n",
        "- Since this is a regression model you will have a single output node in the final layer.\n",
        "- Use activation functions that are appropriate for this task\n",
        "- Compile your model\n",
        "- Fit your model and report its accuracy in terms of Mean Squared Error\n",
        "- Use the history object that is returned from model.fit to make graphs of the model's loss or train/validation accuracies by epoch. \n",
        "- Run this same data through a linear regression model. Which achieves higher accuracy?\n",
        "- Do a little bit of feature engineering and see how that affects your neural network model. (you will need to change your model to accept more inputs)\n",
        "- After feature engineering, which model sees a greater accuracy boost due to the new features?"
      ]
    },
    {
      "metadata": {
        "id": "8NLTAR87uYJ-",
        "colab_type": "code",
        "colab": {}
      },
      "cell_type": "code",
      "source": [
        "import matplotlib.pyplot as plt\n",
        "import seaborn as sns\n",
        "import numpy as np\n",
        "import pandas as pd\n",
        "\n",
        "from sklearn.preprocessing import StandardScaler, MinMaxScaler\n",
        "from sklearn.linear_model import LinearRegression\n",
        "from sklearn.metrics import mean_absolute_error, \\\n",
        "                            mean_squared_error\n",
        "\n",
        "import keras\n",
        "from keras.datasets import boston_housing, fashion_mnist\n",
        "from keras.models import Sequential\n",
        "from keras.layers import Dense, Dropout"
      ],
      "execution_count": 0,
      "outputs": []
    },
    {
      "metadata": {
        "id": "qinWfaIwKQl6",
        "colab_type": "code",
        "colab": {}
      },
      "cell_type": "code",
      "source": [
        "np.random.seed(101)  # Set a fixed seed, so our values each time we run\n",
        "                     # through the same steps are similar. There is still\n",
        "                     # randomness inside the keras functions, so the values\n",
        "                     # will not always be exactly the same."
      ],
      "execution_count": 0,
      "outputs": []
    },
    {
      "metadata": {
        "id": "hV-HzydfZpoo",
        "colab_type": "code",
        "colab": {
          "base_uri": "https://localhost:8080/",
          "height": 493
        },
        "outputId": "3f9efe1d-007c-4ae3-dc84-363736a54ec8"
      },
      "cell_type": "code",
      "source": [
        "help(boston_housing)"
      ],
      "execution_count": 177,
      "outputs": [
        {
          "output_type": "stream",
          "text": [
            "Help on module keras.datasets.boston_housing in keras.datasets:\n",
            "\n",
            "NAME\n",
            "    keras.datasets.boston_housing - Boston housing price regression dataset.\n",
            "\n",
            "FUNCTIONS\n",
            "    load_data(path='boston_housing.npz', test_split=0.2, seed=113)\n",
            "        Loads the Boston Housing dataset.\n",
            "        \n",
            "        # Arguments\n",
            "            path: path where to cache the dataset locally\n",
            "                (relative to ~/.keras/datasets).\n",
            "            test_split: fraction of the data to reserve as test set.\n",
            "            seed: Random seed for shuffling the data\n",
            "                before computing the test split.\n",
            "        \n",
            "        # Returns\n",
            "            Tuple of Numpy arrays: `(x_train, y_train), (x_test, y_test)`.\n",
            "\n",
            "DATA\n",
            "    absolute_import = _Feature((2, 5, 0, 'alpha', 1), (3, 0, 0, 'alpha', 0...\n",
            "    division = _Feature((2, 2, 0, 'alpha', 2), (3, 0, 0, 'alpha', 0), 8192...\n",
            "    print_function = _Feature((2, 6, 0, 'alpha', 2), (3, 0, 0, 'alpha', 0)...\n",
            "\n",
            "FILE\n",
            "    /usr/local/lib/python3.6/dist-packages/keras/datasets/boston_housing.py\n",
            "\n",
            "\n"
          ],
          "name": "stdout"
        }
      ]
    },
    {
      "metadata": {
        "id": "LTVeI_JebKTn",
        "colab_type": "text"
      },
      "cell_type": "markdown",
      "source": [
        "### Having a hard time finding the feature names of the boston housing dataset. help() and dir() are not enough.\n",
        "### https://keras.io/datasets/#boston-housing-price-regression-dataset says this information is obtained from the dataset maintained by statlab at Carnegie Mellon University. Googling, I found this:\n",
        "http://lib.stat.cmu.edu/datasets/boston\n",
        "\n",
        " CRIM     per capita crime rate by town (inversely proportional to prices)\n",
        " \n",
        " ZN       proportion of residential land zoned for lots over 25,000 sq.ft. (so, if this is more, prices will be less)\n",
        " \n",
        " INDUS    proportion of non-retail business acres per town (so, if this is more, prices will be less)\n",
        " \n",
        " CHAS     Charles River dummy variable (= 1 if tract bounds river; 0 otherwise)\n",
        " \n",
        " NOX      nitric oxides concentration (parts per 10 million) (inversely proportional to prices)\n",
        " \n",
        " RM       average number of rooms per dwelling\n",
        " \n",
        " AGE      proportion of owner-occupied units built prior to 1940\n",
        " \n",
        " DIS      weighted distances to five Boston employment centres\n",
        " \n",
        " RAD      index of accessibility to radial highways\n",
        " \n",
        " TAX      full-value property-tax rate per $10,000\n",
        " \n",
        " PTRATIO  pupil-teacher ratio by town\n",
        " \n",
        " B        1000(Bk - 0.63)^2 where Bk is the proportion of blacks by town\n",
        " \n",
        " LSTAT    % lower status of the population\n",
        " \n",
        " MEDV     Median value of owner-occupied homes in $1000's\n"
      ]
    },
    {
      "metadata": {
        "id": "o0wil-dcwmSo",
        "colab_type": "code",
        "colab": {
          "base_uri": "https://localhost:8080/",
          "height": 85
        },
        "outputId": "086e92f0-f39d-480d-e303-22c686875888"
      },
      "cell_type": "code",
      "source": [
        "(train_data, train_targets), (test_data, test_targets) = boston_housing.load_data()\n",
        "print('train_data.shape:', train_data.shape)\n",
        "print('train_targets.shape:', train_targets.shape)\n",
        "print('test_data.shape:', test_data.shape)\n",
        "print('test_targets.shape:', test_targets.shape)"
      ],
      "execution_count": 135,
      "outputs": [
        {
          "output_type": "stream",
          "text": [
            "train_data.shape: (404, 13)\n",
            "train_targets.shape: (404,)\n",
            "test_data.shape: (102, 13)\n",
            "test_targets.shape: (102,)\n"
          ],
          "name": "stdout"
        }
      ]
    },
    {
      "metadata": {
        "id": "tBhlO7XWwmWZ",
        "colab_type": "code",
        "colab": {
          "base_uri": "https://localhost:8080/",
          "height": 204
        },
        "outputId": "516453ec-0667-4852-f711-9a7e1305735d"
      },
      "cell_type": "code",
      "source": [
        "train_X_df = pd.DataFrame(data=train_data, \n",
        "                          columns=['CRIM', 'ZN', 'INDUS', 'CHAS', 'NOX',\n",
        "                                   'RM', 'AGE', 'DIS', 'RAD', 'TAX', 'PTRATIO',\n",
        "                                   'B By town', 'LSTAT %'])\n",
        "train_X_df.head()"
      ],
      "execution_count": 191,
      "outputs": [
        {
          "output_type": "execute_result",
          "data": {
            "text/html": [
              "<div>\n",
              "<style scoped>\n",
              "    .dataframe tbody tr th:only-of-type {\n",
              "        vertical-align: middle;\n",
              "    }\n",
              "\n",
              "    .dataframe tbody tr th {\n",
              "        vertical-align: top;\n",
              "    }\n",
              "\n",
              "    .dataframe thead th {\n",
              "        text-align: right;\n",
              "    }\n",
              "</style>\n",
              "<table border=\"1\" class=\"dataframe\">\n",
              "  <thead>\n",
              "    <tr style=\"text-align: right;\">\n",
              "      <th></th>\n",
              "      <th>CRIM</th>\n",
              "      <th>ZN</th>\n",
              "      <th>INDUS</th>\n",
              "      <th>CHAS</th>\n",
              "      <th>NOX</th>\n",
              "      <th>RM</th>\n",
              "      <th>AGE</th>\n",
              "      <th>DIS</th>\n",
              "      <th>RAD</th>\n",
              "      <th>TAX</th>\n",
              "      <th>PTRATIO</th>\n",
              "      <th>B By town</th>\n",
              "      <th>LSTAT %</th>\n",
              "    </tr>\n",
              "  </thead>\n",
              "  <tbody>\n",
              "    <tr>\n",
              "      <th>0</th>\n",
              "      <td>1.23247</td>\n",
              "      <td>0.0</td>\n",
              "      <td>8.14</td>\n",
              "      <td>0.0</td>\n",
              "      <td>0.538</td>\n",
              "      <td>6.142</td>\n",
              "      <td>91.7</td>\n",
              "      <td>3.9769</td>\n",
              "      <td>4.0</td>\n",
              "      <td>307.0</td>\n",
              "      <td>21.0</td>\n",
              "      <td>396.90</td>\n",
              "      <td>18.72</td>\n",
              "    </tr>\n",
              "    <tr>\n",
              "      <th>1</th>\n",
              "      <td>0.02177</td>\n",
              "      <td>82.5</td>\n",
              "      <td>2.03</td>\n",
              "      <td>0.0</td>\n",
              "      <td>0.415</td>\n",
              "      <td>7.610</td>\n",
              "      <td>15.7</td>\n",
              "      <td>6.2700</td>\n",
              "      <td>2.0</td>\n",
              "      <td>348.0</td>\n",
              "      <td>14.7</td>\n",
              "      <td>395.38</td>\n",
              "      <td>3.11</td>\n",
              "    </tr>\n",
              "    <tr>\n",
              "      <th>2</th>\n",
              "      <td>4.89822</td>\n",
              "      <td>0.0</td>\n",
              "      <td>18.10</td>\n",
              "      <td>0.0</td>\n",
              "      <td>0.631</td>\n",
              "      <td>4.970</td>\n",
              "      <td>100.0</td>\n",
              "      <td>1.3325</td>\n",
              "      <td>24.0</td>\n",
              "      <td>666.0</td>\n",
              "      <td>20.2</td>\n",
              "      <td>375.52</td>\n",
              "      <td>3.26</td>\n",
              "    </tr>\n",
              "    <tr>\n",
              "      <th>3</th>\n",
              "      <td>0.03961</td>\n",
              "      <td>0.0</td>\n",
              "      <td>5.19</td>\n",
              "      <td>0.0</td>\n",
              "      <td>0.515</td>\n",
              "      <td>6.037</td>\n",
              "      <td>34.5</td>\n",
              "      <td>5.9853</td>\n",
              "      <td>5.0</td>\n",
              "      <td>224.0</td>\n",
              "      <td>20.2</td>\n",
              "      <td>396.90</td>\n",
              "      <td>8.01</td>\n",
              "    </tr>\n",
              "    <tr>\n",
              "      <th>4</th>\n",
              "      <td>3.69311</td>\n",
              "      <td>0.0</td>\n",
              "      <td>18.10</td>\n",
              "      <td>0.0</td>\n",
              "      <td>0.713</td>\n",
              "      <td>6.376</td>\n",
              "      <td>88.4</td>\n",
              "      <td>2.5671</td>\n",
              "      <td>24.0</td>\n",
              "      <td>666.0</td>\n",
              "      <td>20.2</td>\n",
              "      <td>391.43</td>\n",
              "      <td>14.65</td>\n",
              "    </tr>\n",
              "  </tbody>\n",
              "</table>\n",
              "</div>"
            ],
            "text/plain": [
              "      CRIM    ZN  INDUS  CHAS    NOX     RM    AGE     DIS   RAD    TAX  \\\n",
              "0  1.23247   0.0   8.14   0.0  0.538  6.142   91.7  3.9769   4.0  307.0   \n",
              "1  0.02177  82.5   2.03   0.0  0.415  7.610   15.7  6.2700   2.0  348.0   \n",
              "2  4.89822   0.0  18.10   0.0  0.631  4.970  100.0  1.3325  24.0  666.0   \n",
              "3  0.03961   0.0   5.19   0.0  0.515  6.037   34.5  5.9853   5.0  224.0   \n",
              "4  3.69311   0.0  18.10   0.0  0.713  6.376   88.4  2.5671  24.0  666.0   \n",
              "\n",
              "   PTRATIO  B By town  LSTAT %  \n",
              "0     21.0     396.90    18.72  \n",
              "1     14.7     395.38     3.11  \n",
              "2     20.2     375.52     3.26  \n",
              "3     20.2     396.90     8.01  \n",
              "4     20.2     391.43    14.65  "
            ]
          },
          "metadata": {
            "tags": []
          },
          "execution_count": 191
        }
      ]
    },
    {
      "metadata": {
        "id": "G5TcdzpSxn2C",
        "colab_type": "code",
        "colab": {
          "base_uri": "https://localhost:8080/",
          "height": 204
        },
        "outputId": "4fee734e-064a-41f6-f701-682625d7481b"
      },
      "cell_type": "code",
      "source": [
        "test_X_df = pd.DataFrame(data=test_data, \n",
        "                          columns=['CRIM', 'ZN', 'INDUS', 'CHAS', 'NOX',\n",
        "                                   'RM', 'AGE', 'DIS', 'RAD', 'TAX', 'PTRATIO',\n",
        "                                   'B By town', 'LSTAT %'])\n",
        "test_X_df.head()"
      ],
      "execution_count": 202,
      "outputs": [
        {
          "output_type": "execute_result",
          "data": {
            "text/html": [
              "<div>\n",
              "<style scoped>\n",
              "    .dataframe tbody tr th:only-of-type {\n",
              "        vertical-align: middle;\n",
              "    }\n",
              "\n",
              "    .dataframe tbody tr th {\n",
              "        vertical-align: top;\n",
              "    }\n",
              "\n",
              "    .dataframe thead th {\n",
              "        text-align: right;\n",
              "    }\n",
              "</style>\n",
              "<table border=\"1\" class=\"dataframe\">\n",
              "  <thead>\n",
              "    <tr style=\"text-align: right;\">\n",
              "      <th></th>\n",
              "      <th>CRIM</th>\n",
              "      <th>ZN</th>\n",
              "      <th>INDUS</th>\n",
              "      <th>CHAS</th>\n",
              "      <th>NOX</th>\n",
              "      <th>RM</th>\n",
              "      <th>AGE</th>\n",
              "      <th>DIS</th>\n",
              "      <th>RAD</th>\n",
              "      <th>TAX</th>\n",
              "      <th>PTRATIO</th>\n",
              "      <th>B By town</th>\n",
              "      <th>LSTAT %</th>\n",
              "    </tr>\n",
              "  </thead>\n",
              "  <tbody>\n",
              "    <tr>\n",
              "      <th>0</th>\n",
              "      <td>18.08460</td>\n",
              "      <td>0.0</td>\n",
              "      <td>18.10</td>\n",
              "      <td>0.0</td>\n",
              "      <td>0.679</td>\n",
              "      <td>6.434</td>\n",
              "      <td>100.0</td>\n",
              "      <td>1.8347</td>\n",
              "      <td>24.0</td>\n",
              "      <td>666.0</td>\n",
              "      <td>20.2</td>\n",
              "      <td>27.25</td>\n",
              "      <td>29.05</td>\n",
              "    </tr>\n",
              "    <tr>\n",
              "      <th>1</th>\n",
              "      <td>0.12329</td>\n",
              "      <td>0.0</td>\n",
              "      <td>10.01</td>\n",
              "      <td>0.0</td>\n",
              "      <td>0.547</td>\n",
              "      <td>5.913</td>\n",
              "      <td>92.9</td>\n",
              "      <td>2.3534</td>\n",
              "      <td>6.0</td>\n",
              "      <td>432.0</td>\n",
              "      <td>17.8</td>\n",
              "      <td>394.95</td>\n",
              "      <td>16.21</td>\n",
              "    </tr>\n",
              "    <tr>\n",
              "      <th>2</th>\n",
              "      <td>0.05497</td>\n",
              "      <td>0.0</td>\n",
              "      <td>5.19</td>\n",
              "      <td>0.0</td>\n",
              "      <td>0.515</td>\n",
              "      <td>5.985</td>\n",
              "      <td>45.4</td>\n",
              "      <td>4.8122</td>\n",
              "      <td>5.0</td>\n",
              "      <td>224.0</td>\n",
              "      <td>20.2</td>\n",
              "      <td>396.90</td>\n",
              "      <td>9.74</td>\n",
              "    </tr>\n",
              "    <tr>\n",
              "      <th>3</th>\n",
              "      <td>1.27346</td>\n",
              "      <td>0.0</td>\n",
              "      <td>19.58</td>\n",
              "      <td>1.0</td>\n",
              "      <td>0.605</td>\n",
              "      <td>6.250</td>\n",
              "      <td>92.6</td>\n",
              "      <td>1.7984</td>\n",
              "      <td>5.0</td>\n",
              "      <td>403.0</td>\n",
              "      <td>14.7</td>\n",
              "      <td>338.92</td>\n",
              "      <td>5.50</td>\n",
              "    </tr>\n",
              "    <tr>\n",
              "      <th>4</th>\n",
              "      <td>0.07151</td>\n",
              "      <td>0.0</td>\n",
              "      <td>4.49</td>\n",
              "      <td>0.0</td>\n",
              "      <td>0.449</td>\n",
              "      <td>6.121</td>\n",
              "      <td>56.8</td>\n",
              "      <td>3.7476</td>\n",
              "      <td>3.0</td>\n",
              "      <td>247.0</td>\n",
              "      <td>18.5</td>\n",
              "      <td>395.15</td>\n",
              "      <td>8.44</td>\n",
              "    </tr>\n",
              "  </tbody>\n",
              "</table>\n",
              "</div>"
            ],
            "text/plain": [
              "       CRIM   ZN  INDUS  CHAS    NOX     RM    AGE     DIS   RAD    TAX  \\\n",
              "0  18.08460  0.0  18.10   0.0  0.679  6.434  100.0  1.8347  24.0  666.0   \n",
              "1   0.12329  0.0  10.01   0.0  0.547  5.913   92.9  2.3534   6.0  432.0   \n",
              "2   0.05497  0.0   5.19   0.0  0.515  5.985   45.4  4.8122   5.0  224.0   \n",
              "3   1.27346  0.0  19.58   1.0  0.605  6.250   92.6  1.7984   5.0  403.0   \n",
              "4   0.07151  0.0   4.49   0.0  0.449  6.121   56.8  3.7476   3.0  247.0   \n",
              "\n",
              "   PTRATIO  B By town  LSTAT %  \n",
              "0     20.2      27.25    29.05  \n",
              "1     17.8     394.95    16.21  \n",
              "2     20.2     396.90     9.74  \n",
              "3     14.7     338.92     5.50  \n",
              "4     18.5     395.15     8.44  "
            ]
          },
          "metadata": {
            "tags": []
          },
          "execution_count": 202
        }
      ]
    },
    {
      "metadata": {
        "id": "v28osFLywmZu",
        "colab_type": "code",
        "colab": {
          "base_uri": "https://localhost:8080/",
          "height": 255
        },
        "outputId": "8007a31d-e2e3-4afd-bb12-6317b9bcb31b"
      },
      "cell_type": "code",
      "source": [
        "train_X_df.dtypes"
      ],
      "execution_count": 137,
      "outputs": [
        {
          "output_type": "execute_result",
          "data": {
            "text/plain": [
              "0     float64\n",
              "1     float64\n",
              "2     float64\n",
              "3     float64\n",
              "4     float64\n",
              "5     float64\n",
              "6     float64\n",
              "7     float64\n",
              "8     float64\n",
              "9     float64\n",
              "10    float64\n",
              "11    float64\n",
              "12    float64\n",
              "dtype: object"
            ]
          },
          "metadata": {
            "tags": []
          },
          "execution_count": 137
        }
      ]
    },
    {
      "metadata": {
        "id": "g2QlRfFt1V9N",
        "colab_type": "code",
        "colab": {
          "base_uri": "https://localhost:8080/",
          "height": 51
        },
        "outputId": "d82d015c-fb1b-45f5-d90c-7971f7ff9758"
      },
      "cell_type": "code",
      "source": [
        "train_targets[:20]"
      ],
      "execution_count": 138,
      "outputs": [
        {
          "output_type": "execute_result",
          "data": {
            "text/plain": [
              "array([15.2, 42.3, 50. , 21.1, 17.7, 18.5, 11.3, 15.6, 15.6, 14.4, 12.1,\n",
              "       17.9, 23.1, 19.9, 15.7,  8.8, 50. , 22.5, 24.1, 27.5])"
            ]
          },
          "metadata": {
            "tags": []
          },
          "execution_count": 138
        }
      ]
    },
    {
      "metadata": {
        "id": "uxG4wYvk1W3U",
        "colab_type": "code",
        "colab": {
          "base_uri": "https://localhost:8080/",
          "height": 34
        },
        "outputId": "ccd69cbe-7512-4771-cfd5-8746b074904c"
      },
      "cell_type": "code",
      "source": [
        "train_targets[0].dtype"
      ],
      "execution_count": 139,
      "outputs": [
        {
          "output_type": "execute_result",
          "data": {
            "text/plain": [
              "dtype('float64')"
            ]
          },
          "metadata": {
            "tags": []
          },
          "execution_count": 139
        }
      ]
    },
    {
      "metadata": {
        "id": "OVt1pLPmHlzE",
        "colab_type": "code",
        "colab": {
          "base_uri": "https://localhost:8080/",
          "height": 527
        },
        "outputId": "f8bb8269-6e9e-4f97-acaa-c42bb775f718"
      },
      "cell_type": "code",
      "source": [
        "test_data[:10]"
      ],
      "execution_count": 140,
      "outputs": [
        {
          "output_type": "execute_result",
          "data": {
            "text/plain": [
              "array([[1.80846e+01, 0.00000e+00, 1.81000e+01, 0.00000e+00, 6.79000e-01,\n",
              "        6.43400e+00, 1.00000e+02, 1.83470e+00, 2.40000e+01, 6.66000e+02,\n",
              "        2.02000e+01, 2.72500e+01, 2.90500e+01],\n",
              "       [1.23290e-01, 0.00000e+00, 1.00100e+01, 0.00000e+00, 5.47000e-01,\n",
              "        5.91300e+00, 9.29000e+01, 2.35340e+00, 6.00000e+00, 4.32000e+02,\n",
              "        1.78000e+01, 3.94950e+02, 1.62100e+01],\n",
              "       [5.49700e-02, 0.00000e+00, 5.19000e+00, 0.00000e+00, 5.15000e-01,\n",
              "        5.98500e+00, 4.54000e+01, 4.81220e+00, 5.00000e+00, 2.24000e+02,\n",
              "        2.02000e+01, 3.96900e+02, 9.74000e+00],\n",
              "       [1.27346e+00, 0.00000e+00, 1.95800e+01, 1.00000e+00, 6.05000e-01,\n",
              "        6.25000e+00, 9.26000e+01, 1.79840e+00, 5.00000e+00, 4.03000e+02,\n",
              "        1.47000e+01, 3.38920e+02, 5.50000e+00],\n",
              "       [7.15100e-02, 0.00000e+00, 4.49000e+00, 0.00000e+00, 4.49000e-01,\n",
              "        6.12100e+00, 5.68000e+01, 3.74760e+00, 3.00000e+00, 2.47000e+02,\n",
              "        1.85000e+01, 3.95150e+02, 8.44000e+00],\n",
              "       [2.79570e-01, 0.00000e+00, 9.69000e+00, 0.00000e+00, 5.85000e-01,\n",
              "        5.92600e+00, 4.26000e+01, 2.38170e+00, 6.00000e+00, 3.91000e+02,\n",
              "        1.92000e+01, 3.96900e+02, 1.35900e+01],\n",
              "       [3.04900e-02, 5.50000e+01, 3.78000e+00, 0.00000e+00, 4.84000e-01,\n",
              "        6.87400e+00, 2.81000e+01, 6.46540e+00, 5.00000e+00, 3.70000e+02,\n",
              "        1.76000e+01, 3.87970e+02, 4.61000e+00],\n",
              "       [3.55100e-02, 2.50000e+01, 4.86000e+00, 0.00000e+00, 4.26000e-01,\n",
              "        6.16700e+00, 4.67000e+01, 5.40070e+00, 4.00000e+00, 2.81000e+02,\n",
              "        1.90000e+01, 3.90640e+02, 7.51000e+00],\n",
              "       [9.29900e-02, 0.00000e+00, 2.56500e+01, 0.00000e+00, 5.81000e-01,\n",
              "        5.96100e+00, 9.29000e+01, 2.08690e+00, 2.00000e+00, 1.88000e+02,\n",
              "        1.91000e+01, 3.78090e+02, 1.79300e+01],\n",
              "       [3.56868e+00, 0.00000e+00, 1.81000e+01, 0.00000e+00, 5.80000e-01,\n",
              "        6.43700e+00, 7.50000e+01, 2.89650e+00, 2.40000e+01, 6.66000e+02,\n",
              "        2.02000e+01, 3.93370e+02, 1.43600e+01]])"
            ]
          },
          "metadata": {
            "tags": []
          },
          "execution_count": 140
        }
      ]
    },
    {
      "metadata": {
        "id": "OSdJTN43HpKz",
        "colab_type": "code",
        "colab": {
          "base_uri": "https://localhost:8080/",
          "height": 34
        },
        "outputId": "644e1db1-7be4-4c71-95ea-eef5ba7f98c0"
      },
      "cell_type": "code",
      "source": [
        "test_targets[:10]"
      ],
      "execution_count": 141,
      "outputs": [
        {
          "output_type": "execute_result",
          "data": {
            "text/plain": [
              "array([ 7.2, 18.8, 19. , 27. , 22.2, 24.5, 31.2, 22.9, 20.5, 23.2])"
            ]
          },
          "metadata": {
            "tags": []
          },
          "execution_count": 141
        }
      ]
    },
    {
      "metadata": {
        "id": "_-xoNwkV1k1S",
        "colab_type": "text"
      },
      "cell_type": "markdown",
      "source": [
        "### All of our inputs/outputs are floats\n",
        "\n",
        "## Normalize the data"
      ]
    },
    {
      "metadata": {
        "id": "gmj84k3mHue0",
        "colab_type": "code",
        "colab": {}
      },
      "cell_type": "code",
      "source": [
        "def wrangle(data):\n",
        "  return MinMaxScaler().fit_transform(data)"
      ],
      "execution_count": 0,
      "outputs": []
    },
    {
      "metadata": {
        "id": "I88D3iC61V_a",
        "colab_type": "code",
        "colab": {}
      },
      "cell_type": "code",
      "source": [
        "train_normalized_data = wrangle(train_data)\n",
        "test_normalized_data  = wrangle(test_data)"
      ],
      "execution_count": 0,
      "outputs": []
    },
    {
      "metadata": {
        "id": "FBxMPGbg1j8g",
        "colab_type": "code",
        "colab": {
          "base_uri": "https://localhost:8080/",
          "height": 238
        },
        "outputId": "89ba349c-cbcd-42fc-83ae-6a3ca6b8d254"
      },
      "cell_type": "code",
      "source": [
        "model = Sequential()\n",
        "model.add(Dense(3, input_dim=13, activation='relu'))\n",
        "model.add(Dense(2, activation='relu'))\n",
        "model.add(Dense(1, activation='linear'))\n",
        "model.compile(loss='mean_squared_error', optimizer='sgd', metrics=['mse'])\n",
        "model.summary()"
      ],
      "execution_count": 144,
      "outputs": [
        {
          "output_type": "stream",
          "text": [
            "_________________________________________________________________\n",
            "Layer (type)                 Output Shape              Param #   \n",
            "=================================================================\n",
            "dense_28 (Dense)             (None, 3)                 42        \n",
            "_________________________________________________________________\n",
            "dense_29 (Dense)             (None, 2)                 8         \n",
            "_________________________________________________________________\n",
            "dense_30 (Dense)             (None, 1)                 3         \n",
            "=================================================================\n",
            "Total params: 53\n",
            "Trainable params: 53\n",
            "Non-trainable params: 0\n",
            "_________________________________________________________________\n"
          ],
          "name": "stdout"
        }
      ]
    },
    {
      "metadata": {
        "id": "sHQYjGBQ1j-1",
        "colab_type": "code",
        "colab": {
          "base_uri": "https://localhost:8080/",
          "height": 1717
        },
        "outputId": "5ca0e05e-335c-4448-95fc-7530a77d55aa"
      },
      "cell_type": "code",
      "source": [
        "history = model.fit(train_data, train_targets, epochs=50)"
      ],
      "execution_count": 145,
      "outputs": [
        {
          "output_type": "stream",
          "text": [
            "Epoch 1/50\n",
            "404/404 [==============================] - 0s 1ms/step - loss: 485.4597 - mean_squared_error: 485.4597\n",
            "Epoch 2/50\n",
            "404/404 [==============================] - 0s 43us/step - loss: 321.6359 - mean_squared_error: 321.6359\n",
            "Epoch 3/50\n",
            "404/404 [==============================] - 0s 41us/step - loss: 225.1457 - mean_squared_error: 225.1457\n",
            "Epoch 4/50\n",
            "404/404 [==============================] - 0s 36us/step - loss: 167.9033 - mean_squared_error: 167.9033\n",
            "Epoch 5/50\n",
            "404/404 [==============================] - 0s 41us/step - loss: 134.1261 - mean_squared_error: 134.1261\n",
            "Epoch 6/50\n",
            "404/404 [==============================] - 0s 38us/step - loss: 113.7699 - mean_squared_error: 113.7699\n",
            "Epoch 7/50\n",
            "404/404 [==============================] - 0s 39us/step - loss: 101.8972 - mean_squared_error: 101.8972\n",
            "Epoch 8/50\n",
            "404/404 [==============================] - 0s 52us/step - loss: 95.0035 - mean_squared_error: 95.0035\n",
            "Epoch 9/50\n",
            "404/404 [==============================] - 0s 42us/step - loss: 90.6749 - mean_squared_error: 90.6749\n",
            "Epoch 10/50\n",
            "404/404 [==============================] - 0s 38us/step - loss: 88.1646 - mean_squared_error: 88.1646\n",
            "Epoch 11/50\n",
            "404/404 [==============================] - 0s 38us/step - loss: 86.7397 - mean_squared_error: 86.7397\n",
            "Epoch 12/50\n",
            "404/404 [==============================] - 0s 44us/step - loss: 85.8190 - mean_squared_error: 85.8190\n",
            "Epoch 13/50\n",
            "404/404 [==============================] - 0s 43us/step - loss: 85.3368 - mean_squared_error: 85.3368\n",
            "Epoch 14/50\n",
            "404/404 [==============================] - 0s 40us/step - loss: 85.0628 - mean_squared_error: 85.0628\n",
            "Epoch 15/50\n",
            "404/404 [==============================] - 0s 46us/step - loss: 84.9354 - mean_squared_error: 84.9354\n",
            "Epoch 16/50\n",
            "404/404 [==============================] - 0s 40us/step - loss: 84.8153 - mean_squared_error: 84.8153\n",
            "Epoch 17/50\n",
            "404/404 [==============================] - 0s 41us/step - loss: 84.7828 - mean_squared_error: 84.7828\n",
            "Epoch 18/50\n",
            "404/404 [==============================] - 0s 39us/step - loss: 84.7228 - mean_squared_error: 84.7228\n",
            "Epoch 19/50\n",
            "404/404 [==============================] - 0s 40us/step - loss: 84.7044 - mean_squared_error: 84.7044\n",
            "Epoch 20/50\n",
            "404/404 [==============================] - 0s 47us/step - loss: 84.6977 - mean_squared_error: 84.6977\n",
            "Epoch 21/50\n",
            "404/404 [==============================] - 0s 46us/step - loss: 84.6597 - mean_squared_error: 84.6597\n",
            "Epoch 22/50\n",
            "404/404 [==============================] - 0s 43us/step - loss: 84.6911 - mean_squared_error: 84.6911\n",
            "Epoch 23/50\n",
            "404/404 [==============================] - 0s 45us/step - loss: 84.7045 - mean_squared_error: 84.7045\n",
            "Epoch 24/50\n",
            "404/404 [==============================] - 0s 49us/step - loss: 84.6638 - mean_squared_error: 84.6638\n",
            "Epoch 25/50\n",
            "404/404 [==============================] - 0s 40us/step - loss: 84.6416 - mean_squared_error: 84.6416\n",
            "Epoch 26/50\n",
            "404/404 [==============================] - 0s 53us/step - loss: 84.6636 - mean_squared_error: 84.6636\n",
            "Epoch 27/50\n",
            "404/404 [==============================] - 0s 40us/step - loss: 84.6652 - mean_squared_error: 84.6652\n",
            "Epoch 28/50\n",
            "404/404 [==============================] - 0s 47us/step - loss: 84.6812 - mean_squared_error: 84.6812\n",
            "Epoch 29/50\n",
            "404/404 [==============================] - 0s 44us/step - loss: 84.6918 - mean_squared_error: 84.6918\n",
            "Epoch 30/50\n",
            "404/404 [==============================] - 0s 41us/step - loss: 84.6701 - mean_squared_error: 84.6701\n",
            "Epoch 31/50\n",
            "404/404 [==============================] - 0s 44us/step - loss: 84.6824 - mean_squared_error: 84.6824\n",
            "Epoch 32/50\n",
            "404/404 [==============================] - 0s 47us/step - loss: 84.6815 - mean_squared_error: 84.6815\n",
            "Epoch 33/50\n",
            "404/404 [==============================] - 0s 65us/step - loss: 84.7021 - mean_squared_error: 84.7021\n",
            "Epoch 34/50\n",
            "404/404 [==============================] - 0s 41us/step - loss: 84.6597 - mean_squared_error: 84.6597\n",
            "Epoch 35/50\n",
            "404/404 [==============================] - 0s 40us/step - loss: 84.6788 - mean_squared_error: 84.6788\n",
            "Epoch 36/50\n",
            "404/404 [==============================] - 0s 41us/step - loss: 84.6712 - mean_squared_error: 84.6712\n",
            "Epoch 37/50\n",
            "404/404 [==============================] - 0s 39us/step - loss: 84.6691 - mean_squared_error: 84.6691\n",
            "Epoch 38/50\n",
            "404/404 [==============================] - 0s 38us/step - loss: 84.6681 - mean_squared_error: 84.6681\n",
            "Epoch 39/50\n",
            "404/404 [==============================] - 0s 39us/step - loss: 84.6663 - mean_squared_error: 84.6663\n",
            "Epoch 40/50\n",
            "404/404 [==============================] - 0s 58us/step - loss: 84.6533 - mean_squared_error: 84.6533\n",
            "Epoch 41/50\n",
            "404/404 [==============================] - 0s 47us/step - loss: 84.7021 - mean_squared_error: 84.7021\n",
            "Epoch 42/50\n",
            "404/404 [==============================] - 0s 38us/step - loss: 84.6553 - mean_squared_error: 84.6553\n",
            "Epoch 43/50\n",
            "404/404 [==============================] - 0s 39us/step - loss: 84.6750 - mean_squared_error: 84.6750\n",
            "Epoch 44/50\n",
            "404/404 [==============================] - 0s 43us/step - loss: 84.6735 - mean_squared_error: 84.6735\n",
            "Epoch 45/50\n",
            "404/404 [==============================] - 0s 44us/step - loss: 84.6775 - mean_squared_error: 84.6775\n",
            "Epoch 46/50\n",
            "404/404 [==============================] - 0s 45us/step - loss: 84.6948 - mean_squared_error: 84.6948\n",
            "Epoch 47/50\n",
            "404/404 [==============================] - 0s 43us/step - loss: 84.6835 - mean_squared_error: 84.6835\n",
            "Epoch 48/50\n",
            "404/404 [==============================] - 0s 49us/step - loss: 84.6955 - mean_squared_error: 84.6955\n",
            "Epoch 49/50\n",
            "404/404 [==============================] - 0s 54us/step - loss: 84.6669 - mean_squared_error: 84.6669\n",
            "Epoch 50/50\n",
            "404/404 [==============================] - 0s 43us/step - loss: 84.6604 - mean_squared_error: 84.6604\n"
          ],
          "name": "stdout"
        }
      ]
    },
    {
      "metadata": {
        "id": "QDs6G6uP1kBW",
        "colab_type": "code",
        "colab": {
          "base_uri": "https://localhost:8080/",
          "height": 136
        },
        "outputId": "7c95c699-6c9f-4a46-f7a2-1ca4bc43ec12"
      },
      "cell_type": "code",
      "source": [
        "scores = model.evaluate(train_normalized_data, train_targets)\n",
        "print(f'{model.metrics_names[0]}: {scores[0]}')\n",
        "print(f'{model.metrics_names[1]}: {scores[1]}')\n",
        "scores  = model.evaluate(test_normalized_data, test_targets)\n",
        "print('scores:', scores)\n",
        "print(f'{model.metrics_names[0]}: {scores[0]}')\n",
        "print(f'{model.metrics_names[1]}: {scores[1]}')"
      ],
      "execution_count": 146,
      "outputs": [
        {
          "output_type": "stream",
          "text": [
            "404/404 [==============================] - 0s 445us/step\n",
            "loss: 84.62254412811582\n",
            "mean_squared_error: 84.62254412811582\n",
            "102/102 [==============================] - 0s 54us/step\n",
            "scores: [83.68787787942325, 83.68787787942325]\n",
            "loss: 83.68787787942325\n",
            "mean_squared_error: 83.68787787942325\n"
          ],
          "name": "stdout"
        }
      ]
    },
    {
      "metadata": {
        "id": "A_dY0VltTt9J",
        "colab_type": "code",
        "colab": {}
      },
      "cell_type": "code",
      "source": [
        "def plot_history(name, marker):\n",
        "  \n",
        "  fig = plt.figure(figsize=(12, 8))\n",
        "  metric = history.history[name]\n",
        "  epoch_count = range(1, len(metric) + 1)\n",
        "  plt.plot(epoch_count, metric, marker)\n",
        "  plt.xlabel('epoch')\n",
        "  plt.ylabel(name)\n",
        "  plt.show();"
      ],
      "execution_count": 0,
      "outputs": []
    },
    {
      "metadata": {
        "id": "ZAVcTp-qTt_h",
        "colab_type": "code",
        "colab": {
          "base_uri": "https://localhost:8080/",
          "height": 977
        },
        "outputId": "2711ad6f-a543-42d0-9ef0-df4a8a96c8b7"
      },
      "cell_type": "code",
      "source": [
        "plot_history('loss', 'r--')\n",
        "plot_history('mean_squared_error', 'r--')"
      ],
      "execution_count": 165,
      "outputs": [
        {
          "output_type": "display_data",
          "data": {
            "image/png": "[encoded data removed]",
            "text/plain": [
              "<Figure size 864x576 with 1 Axes>"
            ]
          },
          "metadata": {
            "tags": []
          }
        },
        {
          "output_type": "display_data",
          "data": {
            "image/png": "[encoded data removed]",
            "text/plain": [
              "<Figure size 864x576 with 1 Axes>"
            ]
          },
          "metadata": {
            "tags": []
          }
        }
      ]
    },
    {
      "metadata": {
        "id": "RF1dHJUIPwGT",
        "colab_type": "text"
      },
      "cell_type": "markdown",
      "source": [
        "## Linear Regression"
      ]
    },
    {
      "metadata": {
        "id": "S9sMfSgr1kDp",
        "colab_type": "code",
        "colab": {
          "base_uri": "https://localhost:8080/",
          "height": 34
        },
        "outputId": "59e41f7e-36a1-41bc-a0c0-13cfe9f38ec1"
      },
      "cell_type": "code",
      "source": [
        "model = LinearRegression().fit(train_normalized_data, train_targets)\n",
        "y_pred = model.predict(test_normalized_data)\n",
        "print('Mean Squared Error:', mean_squared_error(test_targets, y_pred))"
      ],
      "execution_count": 216,
      "outputs": [
        {
          "output_type": "stream",
          "text": [
            "Mean Squared Error: 40.60145446671504\n"
          ],
          "name": "stdout"
        }
      ]
    },
    {
      "metadata": {
        "id": "F6jzWiesWNLP",
        "colab_type": "text"
      },
      "cell_type": "markdown",
      "source": [
        "### Deep Learning got me a mean-squared-error of 84.\n",
        "### Linear Regression got me a mean-squared-error of 41.\n",
        "## Feature Engineering\n"
      ]
    },
    {
      "metadata": {
        "id": "iHlL64kj1kGC",
        "colab_type": "code",
        "colab": {
          "base_uri": "https://localhost:8080/",
          "height": 204
        },
        "outputId": "20e59858-026a-43ad-fdbe-d0e60fa9ec1d"
      },
      "cell_type": "code",
      "source": [
        "train_Y_df = pd.DataFrame(data=train_targets, columns=['y'])\n",
        "data = pd.concat([train_X_df, train_Y_df], axis=1)\n",
        "data.head()"
      ],
      "execution_count": 192,
      "outputs": [
        {
          "output_type": "execute_result",
          "data": {
            "text/html": [
              "<div>\n",
              "<style scoped>\n",
              "    .dataframe tbody tr th:only-of-type {\n",
              "        vertical-align: middle;\n",
              "    }\n",
              "\n",
              "    .dataframe tbody tr th {\n",
              "        vertical-align: top;\n",
              "    }\n",
              "\n",
              "    .dataframe thead th {\n",
              "        text-align: right;\n",
              "    }\n",
              "</style>\n",
              "<table border=\"1\" class=\"dataframe\">\n",
              "  <thead>\n",
              "    <tr style=\"text-align: right;\">\n",
              "      <th></th>\n",
              "      <th>CRIM</th>\n",
              "      <th>ZN</th>\n",
              "      <th>INDUS</th>\n",
              "      <th>CHAS</th>\n",
              "      <th>NOX</th>\n",
              "      <th>RM</th>\n",
              "      <th>AGE</th>\n",
              "      <th>DIS</th>\n",
              "      <th>RAD</th>\n",
              "      <th>TAX</th>\n",
              "      <th>PTRATIO</th>\n",
              "      <th>B By town</th>\n",
              "      <th>LSTAT %</th>\n",
              "      <th>y</th>\n",
              "    </tr>\n",
              "  </thead>\n",
              "  <tbody>\n",
              "    <tr>\n",
              "      <th>0</th>\n",
              "      <td>1.23247</td>\n",
              "      <td>0.0</td>\n",
              "      <td>8.14</td>\n",
              "      <td>0.0</td>\n",
              "      <td>0.538</td>\n",
              "      <td>6.142</td>\n",
              "      <td>91.7</td>\n",
              "      <td>3.9769</td>\n",
              "      <td>4.0</td>\n",
              "      <td>307.0</td>\n",
              "      <td>21.0</td>\n",
              "      <td>396.90</td>\n",
              "      <td>18.72</td>\n",
              "      <td>15.2</td>\n",
              "    </tr>\n",
              "    <tr>\n",
              "      <th>1</th>\n",
              "      <td>0.02177</td>\n",
              "      <td>82.5</td>\n",
              "      <td>2.03</td>\n",
              "      <td>0.0</td>\n",
              "      <td>0.415</td>\n",
              "      <td>7.610</td>\n",
              "      <td>15.7</td>\n",
              "      <td>6.2700</td>\n",
              "      <td>2.0</td>\n",
              "      <td>348.0</td>\n",
              "      <td>14.7</td>\n",
              "      <td>395.38</td>\n",
              "      <td>3.11</td>\n",
              "      <td>42.3</td>\n",
              "    </tr>\n",
              "    <tr>\n",
              "      <th>2</th>\n",
              "      <td>4.89822</td>\n",
              "      <td>0.0</td>\n",
              "      <td>18.10</td>\n",
              "      <td>0.0</td>\n",
              "      <td>0.631</td>\n",
              "      <td>4.970</td>\n",
              "      <td>100.0</td>\n",
              "      <td>1.3325</td>\n",
              "      <td>24.0</td>\n",
              "      <td>666.0</td>\n",
              "      <td>20.2</td>\n",
              "      <td>375.52</td>\n",
              "      <td>3.26</td>\n",
              "      <td>50.0</td>\n",
              "    </tr>\n",
              "    <tr>\n",
              "      <th>3</th>\n",
              "      <td>0.03961</td>\n",
              "      <td>0.0</td>\n",
              "      <td>5.19</td>\n",
              "      <td>0.0</td>\n",
              "      <td>0.515</td>\n",
              "      <td>6.037</td>\n",
              "      <td>34.5</td>\n",
              "      <td>5.9853</td>\n",
              "      <td>5.0</td>\n",
              "      <td>224.0</td>\n",
              "      <td>20.2</td>\n",
              "      <td>396.90</td>\n",
              "      <td>8.01</td>\n",
              "      <td>21.1</td>\n",
              "    </tr>\n",
              "    <tr>\n",
              "      <th>4</th>\n",
              "      <td>3.69311</td>\n",
              "      <td>0.0</td>\n",
              "      <td>18.10</td>\n",
              "      <td>0.0</td>\n",
              "      <td>0.713</td>\n",
              "      <td>6.376</td>\n",
              "      <td>88.4</td>\n",
              "      <td>2.5671</td>\n",
              "      <td>24.0</td>\n",
              "      <td>666.0</td>\n",
              "      <td>20.2</td>\n",
              "      <td>391.43</td>\n",
              "      <td>14.65</td>\n",
              "      <td>17.7</td>\n",
              "    </tr>\n",
              "  </tbody>\n",
              "</table>\n",
              "</div>"
            ],
            "text/plain": [
              "      CRIM    ZN  INDUS  CHAS    NOX     RM    AGE     DIS   RAD    TAX  \\\n",
              "0  1.23247   0.0   8.14   0.0  0.538  6.142   91.7  3.9769   4.0  307.0   \n",
              "1  0.02177  82.5   2.03   0.0  0.415  7.610   15.7  6.2700   2.0  348.0   \n",
              "2  4.89822   0.0  18.10   0.0  0.631  4.970  100.0  1.3325  24.0  666.0   \n",
              "3  0.03961   0.0   5.19   0.0  0.515  6.037   34.5  5.9853   5.0  224.0   \n",
              "4  3.69311   0.0  18.10   0.0  0.713  6.376   88.4  2.5671  24.0  666.0   \n",
              "\n",
              "   PTRATIO  B By town  LSTAT %     y  \n",
              "0     21.0     396.90    18.72  15.2  \n",
              "1     14.7     395.38     3.11  42.3  \n",
              "2     20.2     375.52     3.26  50.0  \n",
              "3     20.2     396.90     8.01  21.1  \n",
              "4     20.2     391.43    14.65  17.7  "
            ]
          },
          "metadata": {
            "tags": []
          },
          "execution_count": 192
        }
      ]
    },
    {
      "metadata": {
        "id": "Dfi9Ey1h1kIY",
        "colab_type": "code",
        "colab": {
          "base_uri": "https://localhost:8080/",
          "height": 218
        },
        "outputId": "76305022-c160-4be5-f23f-da31de0d27bc"
      },
      "cell_type": "code",
      "source": [
        "sns.pairplot(data=data, x_vars=data.drop(['y'], axis=1).columns, y_vars=['y'])"
      ],
      "execution_count": 194,
      "outputs": [
        {
          "output_type": "execute_result",
          "data": {
            "text/plain": [
              "<seaborn.axisgrid.PairGrid at 0x7fcc2b9dde10>"
            ]
          },
          "metadata": {
            "tags": []
          },
          "execution_count": 194
        },
        {
          "output_type": "display_data",
          "data": {
            "image/png": "[encoded data removed]",
            "text/plain": [
              "<Figure size 2340x180 with 13 Axes>"
            ]
          },
          "metadata": {
            "tags": []
          }
        }
      ]
    },
    {
      "metadata": {
        "id": "oxpusT5HvbOJ",
        "colab_type": "text"
      },
      "cell_type": "markdown",
      "source": [
        "### From the above, we see that the number of rooms is a good positively correlated value to the price, and the LSTAT % is a good negatively correlated value to the price. So let's use only those two."
      ]
    },
    {
      "metadata": {
        "id": "HIpJHPE01WB4",
        "colab_type": "code",
        "colab": {}
      },
      "cell_type": "code",
      "source": [
        "data2 = data[['RM', 'LSTAT %', 'y']]\n",
        "X = data2[['RM', 'LSTAT %']]\n",
        "y = data2['y']"
      ],
      "execution_count": 0,
      "outputs": []
    },
    {
      "metadata": {
        "id": "vLpatrSGx30x",
        "colab_type": "code",
        "colab": {
          "base_uri": "https://localhost:8080/",
          "height": 204
        },
        "outputId": "0317115a-85de-46b0-9a77-5c6df8617c65"
      },
      "cell_type": "code",
      "source": [
        "test_Y_df = pd.DataFrame(data=test_targets, columns=['y'])\n",
        "data = pd.concat([test_X_df, test_Y_df], axis=1)\n",
        "data.head()"
      ],
      "execution_count": 204,
      "outputs": [
        {
          "output_type": "execute_result",
          "data": {
            "text/html": [
              "<div>\n",
              "<style scoped>\n",
              "    .dataframe tbody tr th:only-of-type {\n",
              "        vertical-align: middle;\n",
              "    }\n",
              "\n",
              "    .dataframe tbody tr th {\n",
              "        vertical-align: top;\n",
              "    }\n",
              "\n",
              "    .dataframe thead th {\n",
              "        text-align: right;\n",
              "    }\n",
              "</style>\n",
              "<table border=\"1\" class=\"dataframe\">\n",
              "  <thead>\n",
              "    <tr style=\"text-align: right;\">\n",
              "      <th></th>\n",
              "      <th>CRIM</th>\n",
              "      <th>ZN</th>\n",
              "      <th>INDUS</th>\n",
              "      <th>CHAS</th>\n",
              "      <th>NOX</th>\n",
              "      <th>RM</th>\n",
              "      <th>AGE</th>\n",
              "      <th>DIS</th>\n",
              "      <th>RAD</th>\n",
              "      <th>TAX</th>\n",
              "      <th>PTRATIO</th>\n",
              "      <th>B By town</th>\n",
              "      <th>LSTAT %</th>\n",
              "      <th>y</th>\n",
              "    </tr>\n",
              "  </thead>\n",
              "  <tbody>\n",
              "    <tr>\n",
              "      <th>0</th>\n",
              "      <td>18.08460</td>\n",
              "      <td>0.0</td>\n",
              "      <td>18.10</td>\n",
              "      <td>0.0</td>\n",
              "      <td>0.679</td>\n",
              "      <td>6.434</td>\n",
              "      <td>100.0</td>\n",
              "      <td>1.8347</td>\n",
              "      <td>24.0</td>\n",
              "      <td>666.0</td>\n",
              "      <td>20.2</td>\n",
              "      <td>27.25</td>\n",
              "      <td>29.05</td>\n",
              "      <td>7.2</td>\n",
              "    </tr>\n",
              "    <tr>\n",
              "      <th>1</th>\n",
              "      <td>0.12329</td>\n",
              "      <td>0.0</td>\n",
              "      <td>10.01</td>\n",
              "      <td>0.0</td>\n",
              "      <td>0.547</td>\n",
              "      <td>5.913</td>\n",
              "      <td>92.9</td>\n",
              "      <td>2.3534</td>\n",
              "      <td>6.0</td>\n",
              "      <td>432.0</td>\n",
              "      <td>17.8</td>\n",
              "      <td>394.95</td>\n",
              "      <td>16.21</td>\n",
              "      <td>18.8</td>\n",
              "    </tr>\n",
              "    <tr>\n",
              "      <th>2</th>\n",
              "      <td>0.05497</td>\n",
              "      <td>0.0</td>\n",
              "      <td>5.19</td>\n",
              "      <td>0.0</td>\n",
              "      <td>0.515</td>\n",
              "      <td>5.985</td>\n",
              "      <td>45.4</td>\n",
              "      <td>4.8122</td>\n",
              "      <td>5.0</td>\n",
              "      <td>224.0</td>\n",
              "      <td>20.2</td>\n",
              "      <td>396.90</td>\n",
              "      <td>9.74</td>\n",
              "      <td>19.0</td>\n",
              "    </tr>\n",
              "    <tr>\n",
              "      <th>3</th>\n",
              "      <td>1.27346</td>\n",
              "      <td>0.0</td>\n",
              "      <td>19.58</td>\n",
              "      <td>1.0</td>\n",
              "      <td>0.605</td>\n",
              "      <td>6.250</td>\n",
              "      <td>92.6</td>\n",
              "      <td>1.7984</td>\n",
              "      <td>5.0</td>\n",
              "      <td>403.0</td>\n",
              "      <td>14.7</td>\n",
              "      <td>338.92</td>\n",
              "      <td>5.50</td>\n",
              "      <td>27.0</td>\n",
              "    </tr>\n",
              "    <tr>\n",
              "      <th>4</th>\n",
              "      <td>0.07151</td>\n",
              "      <td>0.0</td>\n",
              "      <td>4.49</td>\n",
              "      <td>0.0</td>\n",
              "      <td>0.449</td>\n",
              "      <td>6.121</td>\n",
              "      <td>56.8</td>\n",
              "      <td>3.7476</td>\n",
              "      <td>3.0</td>\n",
              "      <td>247.0</td>\n",
              "      <td>18.5</td>\n",
              "      <td>395.15</td>\n",
              "      <td>8.44</td>\n",
              "      <td>22.2</td>\n",
              "    </tr>\n",
              "  </tbody>\n",
              "</table>\n",
              "</div>"
            ],
            "text/plain": [
              "       CRIM   ZN  INDUS  CHAS    NOX     RM    AGE     DIS   RAD    TAX  \\\n",
              "0  18.08460  0.0  18.10   0.0  0.679  6.434  100.0  1.8347  24.0  666.0   \n",
              "1   0.12329  0.0  10.01   0.0  0.547  5.913   92.9  2.3534   6.0  432.0   \n",
              "2   0.05497  0.0   5.19   0.0  0.515  5.985   45.4  4.8122   5.0  224.0   \n",
              "3   1.27346  0.0  19.58   1.0  0.605  6.250   92.6  1.7984   5.0  403.0   \n",
              "4   0.07151  0.0   4.49   0.0  0.449  6.121   56.8  3.7476   3.0  247.0   \n",
              "\n",
              "   PTRATIO  B By town  LSTAT %     y  \n",
              "0     20.2      27.25    29.05   7.2  \n",
              "1     17.8     394.95    16.21  18.8  \n",
              "2     20.2     396.90     9.74  19.0  \n",
              "3     14.7     338.92     5.50  27.0  \n",
              "4     18.5     395.15     8.44  22.2  "
            ]
          },
          "metadata": {
            "tags": []
          },
          "execution_count": 204
        }
      ]
    },
    {
      "metadata": {
        "id": "Twiv02X1yEnG",
        "colab_type": "code",
        "colab": {}
      },
      "cell_type": "code",
      "source": [
        "data2_test = data[['RM', 'LSTAT %', 'y']]\n",
        "X_test = data2_test[['RM', 'LSTAT %']]\n",
        "y_test = data2_test['y']"
      ],
      "execution_count": 0,
      "outputs": []
    },
    {
      "metadata": {
        "id": "maXPMQk7xO_i",
        "colab_type": "code",
        "colab": {
          "base_uri": "https://localhost:8080/",
          "height": 238
        },
        "outputId": "a13109ae-c39c-44bd-e562-f4c3f2b88c4b"
      },
      "cell_type": "code",
      "source": [
        "model = Sequential()\n",
        "model.add(Dense(3, input_dim=2, activation='relu'))\n",
        "model.add(Dense(2, activation='relu'))\n",
        "model.add(Dense(1, activation='linear'))\n",
        "model.compile(loss='mean_squared_error', optimizer='rmsprop', metrics=['mse'])\n",
        "model.summary()"
      ],
      "execution_count": 212,
      "outputs": [
        {
          "output_type": "stream",
          "text": [
            "_________________________________________________________________\n",
            "Layer (type)                 Output Shape              Param #   \n",
            "=================================================================\n",
            "dense_37 (Dense)             (None, 3)                 9         \n",
            "_________________________________________________________________\n",
            "dense_38 (Dense)             (None, 2)                 8         \n",
            "_________________________________________________________________\n",
            "dense_39 (Dense)             (None, 1)                 3         \n",
            "=================================================================\n",
            "Total params: 20\n",
            "Trainable params: 20\n",
            "Non-trainable params: 0\n",
            "_________________________________________________________________\n"
          ],
          "name": "stdout"
        }
      ]
    },
    {
      "metadata": {
        "id": "H6wKkQC6xPB5",
        "colab_type": "code",
        "colab": {
          "base_uri": "https://localhost:8080/",
          "height": 1836
        },
        "outputId": "6b359f0e-402c-4714-bf2b-913632fc32c1"
      },
      "cell_type": "code",
      "source": [
        "history = model.fit(X, y, epochs=50)\n",
        "scores = model.evaluate(X, y)\n",
        "print(f'{model.metrics_names[0]}: {scores[0]}')\n",
        "print(f'{model.metrics_names[1]}: {scores[1]}')\n",
        "scores  = model.evaluate(X_test, y_test)\n",
        "print('scores:', scores)\n",
        "print(f'{model.metrics_names[0]}: {scores[0]}')\n",
        "print(f'{model.metrics_names[1]}: {scores[1]}')"
      ],
      "execution_count": 214,
      "outputs": [
        {
          "output_type": "stream",
          "text": [
            "Epoch 1/50\n",
            "102/102 [==============================] - 0s 5ms/step - loss: 853.8984 - mean_squared_error: 853.8984\n",
            "Epoch 2/50\n",
            "102/102 [==============================] - 0s 111us/step - loss: 831.2115 - mean_squared_error: 831.2115\n",
            "Epoch 3/50\n",
            "102/102 [==============================] - 0s 78us/step - loss: 815.6051 - mean_squared_error: 815.6051\n",
            "Epoch 4/50\n",
            "102/102 [==============================] - 0s 65us/step - loss: 802.5552 - mean_squared_error: 802.5552\n",
            "Epoch 5/50\n",
            "102/102 [==============================] - 0s 61us/step - loss: 790.6150 - mean_squared_error: 790.6150\n",
            "Epoch 6/50\n",
            "102/102 [==============================] - 0s 66us/step - loss: 779.2352 - mean_squared_error: 779.2352\n",
            "Epoch 7/50\n",
            "102/102 [==============================] - 0s 73us/step - loss: 768.4630 - mean_squared_error: 768.4630\n",
            "Epoch 8/50\n",
            "102/102 [==============================] - 0s 73us/step - loss: 758.4986 - mean_squared_error: 758.4986\n",
            "Epoch 9/50\n",
            "102/102 [==============================] - 0s 70us/step - loss: 748.4212 - mean_squared_error: 748.4212\n",
            "Epoch 10/50\n",
            "102/102 [==============================] - 0s 70us/step - loss: 738.8390 - mean_squared_error: 738.8390\n",
            "Epoch 11/50\n",
            "102/102 [==============================] - 0s 67us/step - loss: 730.1532 - mean_squared_error: 730.1532\n",
            "Epoch 12/50\n",
            "102/102 [==============================] - 0s 71us/step - loss: 721.4589 - mean_squared_error: 721.4589\n",
            "Epoch 13/50\n",
            "102/102 [==============================] - 0s 74us/step - loss: 713.2275 - mean_squared_error: 713.2275\n",
            "Epoch 14/50\n",
            "102/102 [==============================] - 0s 69us/step - loss: 704.5984 - mean_squared_error: 704.5984\n",
            "Epoch 15/50\n",
            "102/102 [==============================] - 0s 93us/step - loss: 696.5600 - mean_squared_error: 696.5600\n",
            "Epoch 16/50\n",
            "102/102 [==============================] - 0s 62us/step - loss: 688.2166 - mean_squared_error: 688.2166\n",
            "Epoch 17/50\n",
            "102/102 [==============================] - 0s 58us/step - loss: 680.0922 - mean_squared_error: 680.0922\n",
            "Epoch 18/50\n",
            "102/102 [==============================] - 0s 61us/step - loss: 672.2982 - mean_squared_error: 672.2982\n",
            "Epoch 19/50\n",
            "102/102 [==============================] - 0s 67us/step - loss: 664.6828 - mean_squared_error: 664.6828\n",
            "Epoch 20/50\n",
            "102/102 [==============================] - 0s 73us/step - loss: 656.9758 - mean_squared_error: 656.9758\n",
            "Epoch 21/50\n",
            "102/102 [==============================] - 0s 73us/step - loss: 649.7769 - mean_squared_error: 649.7769\n",
            "Epoch 22/50\n",
            "102/102 [==============================] - 0s 76us/step - loss: 642.5597 - mean_squared_error: 642.5597\n",
            "Epoch 23/50\n",
            "102/102 [==============================] - 0s 71us/step - loss: 635.6430 - mean_squared_error: 635.6430\n",
            "Epoch 24/50\n",
            "102/102 [==============================] - 0s 71us/step - loss: 629.1646 - mean_squared_error: 629.1646\n",
            "Epoch 25/50\n",
            "102/102 [==============================] - 0s 105us/step - loss: 622.9315 - mean_squared_error: 622.9315\n",
            "Epoch 26/50\n",
            "102/102 [==============================] - 0s 83us/step - loss: 616.3436 - mean_squared_error: 616.3436\n",
            "Epoch 27/50\n",
            "102/102 [==============================] - 0s 82us/step - loss: 609.7723 - mean_squared_error: 609.7723\n",
            "Epoch 28/50\n",
            "102/102 [==============================] - 0s 83us/step - loss: 603.7259 - mean_squared_error: 603.7259\n",
            "Epoch 29/50\n",
            "102/102 [==============================] - 0s 102us/step - loss: 597.5179 - mean_squared_error: 597.5179\n",
            "Epoch 30/50\n",
            "102/102 [==============================] - 0s 101us/step - loss: 591.7399 - mean_squared_error: 591.7399\n",
            "Epoch 31/50\n",
            "102/102 [==============================] - 0s 85us/step - loss: 586.0321 - mean_squared_error: 586.0321\n",
            "Epoch 32/50\n",
            "102/102 [==============================] - 0s 98us/step - loss: 580.5228 - mean_squared_error: 580.5228\n",
            "Epoch 33/50\n",
            "102/102 [==============================] - 0s 67us/step - loss: 575.1050 - mean_squared_error: 575.1050\n",
            "Epoch 34/50\n",
            "102/102 [==============================] - 0s 90us/step - loss: 570.1133 - mean_squared_error: 570.1133\n",
            "Epoch 35/50\n",
            "102/102 [==============================] - 0s 73us/step - loss: 565.5585 - mean_squared_error: 565.5585\n",
            "Epoch 36/50\n",
            "102/102 [==============================] - 0s 73us/step - loss: 560.7355 - mean_squared_error: 560.7355\n",
            "Epoch 37/50\n",
            "102/102 [==============================] - 0s 72us/step - loss: 556.2704 - mean_squared_error: 556.2704\n",
            "Epoch 38/50\n",
            "102/102 [==============================] - 0s 72us/step - loss: 551.8195 - mean_squared_error: 551.8195\n",
            "Epoch 39/50\n",
            "102/102 [==============================] - 0s 81us/step - loss: 546.7839 - mean_squared_error: 546.7839\n",
            "Epoch 40/50\n",
            "102/102 [==============================] - 0s 91us/step - loss: 542.2381 - mean_squared_error: 542.2381\n",
            "Epoch 41/50\n",
            "102/102 [==============================] - 0s 76us/step - loss: 537.4342 - mean_squared_error: 537.4342\n",
            "Epoch 42/50\n",
            "102/102 [==============================] - 0s 73us/step - loss: 532.4901 - mean_squared_error: 532.4901\n",
            "Epoch 43/50\n",
            "102/102 [==============================] - 0s 75us/step - loss: 527.5052 - mean_squared_error: 527.5052\n",
            "Epoch 44/50\n",
            "102/102 [==============================] - 0s 71us/step - loss: 522.2809 - mean_squared_error: 522.2809\n",
            "Epoch 45/50\n",
            "102/102 [==============================] - 0s 80us/step - loss: 517.1779 - mean_squared_error: 517.1779\n",
            "Epoch 46/50\n",
            "102/102 [==============================] - 0s 73us/step - loss: 511.8820 - mean_squared_error: 511.8820\n",
            "Epoch 47/50\n",
            "102/102 [==============================] - 0s 78us/step - loss: 506.3861 - mean_squared_error: 506.3861\n",
            "Epoch 48/50\n",
            "102/102 [==============================] - 0s 80us/step - loss: 501.2119 - mean_squared_error: 501.2119\n",
            "Epoch 49/50\n",
            "102/102 [==============================] - 0s 71us/step - loss: 495.7307 - mean_squared_error: 495.7307\n",
            "Epoch 50/50\n",
            "102/102 [==============================] - 0s 70us/step - loss: 490.1190 - mean_squared_error: 490.1190\n",
            "102/102 [==============================] - 0s 2ms/step\n",
            "loss: 486.24707988664215\n",
            "mean_squared_error: 486.24707988664215\n",
            "102/102 [==============================] - 0s 52us/step\n",
            "scores: [486.24707988664215, 486.24707988664215]\n",
            "loss: 486.24707988664215\n",
            "mean_squared_error: 486.24707988664215\n"
          ],
          "name": "stdout"
        }
      ]
    },
    {
      "metadata": {
        "id": "RSbIPr56xPEJ",
        "colab_type": "code",
        "colab": {
          "base_uri": "https://localhost:8080/",
          "height": 34
        },
        "outputId": "288136a1-7e41-4859-b5c3-b781651556d5"
      },
      "cell_type": "code",
      "source": [
        "model = LinearRegression().fit(X, y)\n",
        "y_pred = model.predict(X_test)\n",
        "print('Mean Squared Error:', mean_squared_error(y_test, y_pred))"
      ],
      "execution_count": 217,
      "outputs": [
        {
          "output_type": "stream",
          "text": [
            "Mean Squared Error: 23.969491575865415\n"
          ],
          "name": "stdout"
        }
      ]
    },
    {
      "metadata": {
        "id": "l0c8yb3e2Kpf",
        "colab_type": "text"
      },
      "cell_type": "markdown",
      "source": [
        "### Looks like even after feature selection, our Linear Regression is better (and our neural network has gotten worse)."
      ]
    },
    {
      "metadata": {
        "id": "SfcFnOONyuNm",
        "colab_type": "text"
      },
      "cell_type": "markdown",
      "source": [
        "## Use the Keras Library to build an image recognition network using the Fashion-MNIST dataset (also comes with keras)\n",
        "\n",
        "- Load and preprocess the image data similar to how we preprocessed the MNIST data in class.\n",
        "- Make sure to one-hot encode your category labels\n",
        "- Make sure to have your final layer have as many nodes as the number of classes that you want to predict.\n",
        "- Try different hyperparameters. What is the highest accuracy that you are able to achieve.\n",
        "- Use the history object that is returned from model.fit to make graphs of the model's loss or train/validation accuracies by epoch. \n",
        "- Remember that neural networks fall prey to randomness so you may need to run your model multiple times (or use Cross Validation) in order to tell if a change to a hyperparameter is truly producing better results."
      ]
    },
    {
      "metadata": {
        "id": "kpKYs8Agwku0",
        "colab_type": "code",
        "colab": {
          "base_uri": "https://localhost:8080/",
          "height": 221
        },
        "outputId": "140df462-6edd-4867-c901-5edaa0f1792b"
      },
      "cell_type": "code",
      "source": [
        "(train_data, train_targets), (test_data, test_targets) = fashion_mnist.load_data()\n",
        "print('train_data.shape:', train_data.shape)\n",
        "print('train_targets.shape:', train_targets.shape)\n",
        "print('test_data.shape:', test_data.shape)\n",
        "print('test_targets.shape:', test_targets.shape)"
      ],
      "execution_count": 219,
      "outputs": [
        {
          "output_type": "stream",
          "text": [
            "Downloading data from http://fashion-mnist.s3-website.eu-central-1.amazonaws.com/train-labels-idx1-ubyte.gz\n",
            "32768/29515 [=================================] - 0s 3us/step\n",
            "Downloading data from http://fashion-mnist.s3-website.eu-central-1.amazonaws.com/train-images-idx3-ubyte.gz\n",
            "26427392/26421880 [==============================] - 2s 0us/step\n",
            "Downloading data from http://fashion-mnist.s3-website.eu-central-1.amazonaws.com/t10k-labels-idx1-ubyte.gz\n",
            "8192/5148 [===============================================] - 0s 0us/step\n",
            "Downloading data from http://fashion-mnist.s3-website.eu-central-1.amazonaws.com/t10k-images-idx3-ubyte.gz\n",
            "4423680/4422102 [==============================] - 1s 0us/step\n",
            "train_data.shape: (60000, 28, 28)\n",
            "train_targets.shape: (60000,)\n",
            "test_data.shape: (10000, 28, 28)\n",
            "test_targets.shape: (10000,)\n"
          ],
          "name": "stdout"
        }
      ]
    },
    {
      "metadata": {
        "id": "szi6-IpuzaH1",
        "colab_type": "code",
        "colab": {
          "base_uri": "https://localhost:8080/",
          "height": 3519
        },
        "outputId": "bffc12db-94ea-49e9-b167-918b1dfda408"
      },
      "cell_type": "code",
      "source": [
        "# For now the global hyperparameters that we know of are:\n",
        "#    batch size\n",
        "#    epochs\n",
        "# Pass these into the function\n",
        "def run_network(batch_size, epochs, model_spec):\n",
        "  \n",
        "  def create_model(model_type):\n",
        "    return {'sequential': Sequential()}.get(model_type, None)\n",
        "  \n",
        "\n",
        "  def create_layer(layer_type, layer):\n",
        "    if layer_type == 'dense':\n",
        "      if 'input_shape' in layer:\n",
        "        return Dense(layer['nodes'], \n",
        "                     activation=layer['activation'], \n",
        "                     input_shape=layer['input_shape'])\n",
        "      else:\n",
        "        return Dense(layer['nodes'], \n",
        "                     activation=layer['activation'])\n",
        "    elif layer_type == 'dropout':\n",
        "      return Dropout(layer['fraction'])\n",
        "    else:\n",
        "      raise(ValueError, 'Layer unknown:', layer_type)\n",
        "    \n",
        "\n",
        "  num_classes = 10\n",
        "  \n",
        "  (x_train, y_train), (x_test, y_test) = fashion_mnist.load_data()\n",
        "\n",
        "  # Flatten the images\n",
        "  x_train = x_train.reshape(60000, 784)\n",
        "  x_test = x_test.reshape(10000, 784)\n",
        "\n",
        "  x_train = x_train.astype('float32')\n",
        "  x_test = x_test.astype('float32')\n",
        "\n",
        "  y_train = keras.utils.to_categorical(y_train, num_classes)\n",
        "  y_test = keras.utils.to_categorical(y_test, num_classes)\n",
        "\n",
        "  x_train /= 255\n",
        "  x_test /= 255\n",
        "\n",
        "  print(x_train.shape[0], 'train samples')\n",
        "  print(x_test.shape[0], 'test samples')\n",
        "  \n",
        "  model = create_model(model_spec['type'])\n",
        "  for layer in model_spec['layers']:\n",
        "    model.add(create_layer(layer['type'], layer))\n",
        "    \n",
        "  model.compile(loss='categorical_crossentropy', optimizer='adam', metrics=['accuracy'])\n",
        "  model.summary()\n",
        "  \n",
        "  history = model.fit(x_train, y_train, epochs=epochs, validation_split=.1)\n",
        "  scores = model.evaluate(x_test,y_test)\n",
        "\n",
        "  return history, scores\n",
        "\n",
        "model_spec = {'type': 'sequential',\n",
        "              'layers': [{'type': 'dense', 'nodes': 16, 'activation': 'relu', 'input_shape': (784,)},\n",
        "                         {'type': 'dropout', 'fraction': 0.1},\n",
        "                         {'type': 'dense', 'nodes': 16, 'activation': 'relu'},\n",
        "                         {'type': 'dropout', 'fraction': 0.1},\n",
        "                         {'type': 'dense', 'nodes': num_classes, 'activation': 'softmax'}]}\n",
        "\n",
        "all_histories = []\n",
        "all_scores = []\n",
        "# for batch_size in range(32, 130, 64):\n",
        "#   for epochs in range(20, 101, 40):\n",
        "#     history, scores = run_network(batch_size, epochs, model_spec)\n",
        "    \n",
        "#     all_histories.append(history)\n",
        "#     all_scores.append(scores)\n",
        "\n",
        "history, scores = run_network(32, 40, model_spec)\n",
        "all_histories.append(history)\n",
        "all_scores.append(scores)\n",
        "\n",
        "model_spec = {'type': 'sequential',\n",
        "              'layers': [{'type': 'dense', 'nodes': 16, 'activation': 'relu', 'input_shape': (784,)},\n",
        "                         {'type': 'dropout', 'fraction': 0.1},\n",
        "                         {'type': 'dense', 'nodes': 16, 'activation': 'relu'},\n",
        "                         {'type': 'dropout', 'fraction': 0.1},\n",
        "                         {'type': 'dense', 'nodes': 8, 'activation': 'relu'},\n",
        "                         {'type': 'dropout', 'fraction': 0.1},\n",
        "                         {'type': 'dense', 'nodes': num_classes, 'activation': 'softmax'}]}\n",
        "\n",
        "history, scores = run_network(32, 40, model_spec)\n",
        "all_histories.append(history)\n",
        "all_scores.append(scores)\n",
        "\n"
      ],
      "execution_count": 245,
      "outputs": [
        {
          "output_type": "stream",
          "text": [
            "60000 train samples\n",
            "10000 test samples\n",
            "_________________________________________________________________\n",
            "Layer (type)                 Output Shape              Param #   \n",
            "=================================================================\n",
            "dense_69 (Dense)             (None, 16)                12560     \n",
            "_________________________________________________________________\n",
            "dropout_21 (Dropout)         (None, 16)                0         \n",
            "_________________________________________________________________\n",
            "dense_70 (Dense)             (None, 16)                272       \n",
            "_________________________________________________________________\n",
            "dropout_22 (Dropout)         (None, 16)                0         \n",
            "_________________________________________________________________\n",
            "dense_71 (Dense)             (None, 10)                170       \n",
            "=================================================================\n",
            "Total params: 13,002\n",
            "Trainable params: 13,002\n",
            "Non-trainable params: 0\n",
            "_________________________________________________________________\n",
            "Train on 54000 samples, validate on 6000 samples\n",
            "Epoch 1/40\n",
            "54000/54000 [==============================] - 5s 94us/step - loss: 0.8566 - acc: 0.6876 - val_loss: 0.5115 - val_acc: 0.8268\n",
            "Epoch 2/40\n",
            "54000/54000 [==============================] - 3s 62us/step - loss: 0.5882 - acc: 0.7898 - val_loss: 0.4609 - val_acc: 0.8327\n",
            "Epoch 3/40\n",
            "54000/54000 [==============================] - 3s 62us/step - loss: 0.5386 - acc: 0.8079 - val_loss: 0.4336 - val_acc: 0.8510\n",
            "Epoch 4/40\n",
            "54000/54000 [==============================] - 3s 62us/step - loss: 0.5141 - acc: 0.8167 - val_loss: 0.4273 - val_acc: 0.8458\n",
            "Epoch 5/40\n",
            "54000/54000 [==============================] - 3s 63us/step - loss: 0.4979 - acc: 0.8206 - val_loss: 0.4283 - val_acc: 0.8453\n",
            "Epoch 6/40\n",
            "54000/54000 [==============================] - 3s 63us/step - loss: 0.4892 - acc: 0.8251 - val_loss: 0.4182 - val_acc: 0.8485\n",
            "Epoch 7/40\n",
            "54000/54000 [==============================] - 3s 63us/step - loss: 0.4834 - acc: 0.8259 - val_loss: 0.4134 - val_acc: 0.8508\n",
            "Epoch 8/40\n",
            "54000/54000 [==============================] - 3s 62us/step - loss: 0.4743 - acc: 0.8301 - val_loss: 0.4204 - val_acc: 0.8468\n",
            "Epoch 9/40\n",
            "54000/54000 [==============================] - 3s 60us/step - loss: 0.4717 - acc: 0.8307 - val_loss: 0.4103 - val_acc: 0.8517\n",
            "Epoch 10/40\n",
            "54000/54000 [==============================] - 3s 61us/step - loss: 0.4645 - acc: 0.8334 - val_loss: 0.4019 - val_acc: 0.8515\n",
            "Epoch 11/40\n",
            "54000/54000 [==============================] - 3s 60us/step - loss: 0.4592 - acc: 0.8361 - val_loss: 0.4165 - val_acc: 0.8475\n",
            "Epoch 12/40\n",
            "54000/54000 [==============================] - 3s 62us/step - loss: 0.4536 - acc: 0.8366 - val_loss: 0.4048 - val_acc: 0.8532\n",
            "Epoch 13/40\n",
            "54000/54000 [==============================] - 3s 61us/step - loss: 0.4528 - acc: 0.8366 - val_loss: 0.4003 - val_acc: 0.8560\n",
            "Epoch 14/40\n",
            "54000/54000 [==============================] - 3s 60us/step - loss: 0.4507 - acc: 0.8374 - val_loss: 0.4064 - val_acc: 0.8532\n",
            "Epoch 15/40\n",
            "54000/54000 [==============================] - 3s 62us/step - loss: 0.4466 - acc: 0.8381 - val_loss: 0.4110 - val_acc: 0.8530\n",
            "Epoch 16/40\n",
            "54000/54000 [==============================] - 3s 61us/step - loss: 0.4435 - acc: 0.8385 - val_loss: 0.4027 - val_acc: 0.8562\n",
            "Epoch 17/40\n",
            "54000/54000 [==============================] - 3s 61us/step - loss: 0.4418 - acc: 0.8403 - val_loss: 0.4002 - val_acc: 0.8628\n",
            "Epoch 18/40\n",
            "54000/54000 [==============================] - 3s 61us/step - loss: 0.4388 - acc: 0.8409 - val_loss: 0.4139 - val_acc: 0.8543\n",
            "Epoch 19/40\n",
            "54000/54000 [==============================] - 3s 62us/step - loss: 0.4389 - acc: 0.8407 - val_loss: 0.3936 - val_acc: 0.8590\n",
            "Epoch 20/40\n",
            "54000/54000 [==============================] - 3s 61us/step - loss: 0.4354 - acc: 0.8411 - val_loss: 0.4046 - val_acc: 0.8547\n",
            "Epoch 21/40\n",
            "54000/54000 [==============================] - 3s 62us/step - loss: 0.4319 - acc: 0.8426 - val_loss: 0.3978 - val_acc: 0.8592\n",
            "Epoch 22/40\n",
            "54000/54000 [==============================] - 3s 62us/step - loss: 0.4303 - acc: 0.8433 - val_loss: 0.3977 - val_acc: 0.8583\n",
            "Epoch 23/40\n",
            "54000/54000 [==============================] - 3s 62us/step - loss: 0.4312 - acc: 0.8455 - val_loss: 0.4081 - val_acc: 0.8557\n",
            "Epoch 24/40\n",
            "54000/54000 [==============================] - 3s 61us/step - loss: 0.4314 - acc: 0.8419 - val_loss: 0.4022 - val_acc: 0.8617\n",
            "Epoch 25/40\n",
            "54000/54000 [==============================] - 3s 62us/step - loss: 0.4267 - acc: 0.8442 - val_loss: 0.4166 - val_acc: 0.8495\n",
            "Epoch 26/40\n",
            "54000/54000 [==============================] - 3s 62us/step - loss: 0.4251 - acc: 0.8447 - val_loss: 0.3998 - val_acc: 0.8588\n",
            "Epoch 27/40\n",
            "54000/54000 [==============================] - 3s 61us/step - loss: 0.4254 - acc: 0.8464 - val_loss: 0.4047 - val_acc: 0.8572\n",
            "Epoch 28/40\n",
            "54000/54000 [==============================] - 3s 62us/step - loss: 0.4214 - acc: 0.8456 - val_loss: 0.3970 - val_acc: 0.8633\n",
            "Epoch 29/40\n",
            "54000/54000 [==============================] - 3s 61us/step - loss: 0.4188 - acc: 0.8473 - val_loss: 0.4009 - val_acc: 0.8615\n",
            "Epoch 30/40\n",
            "54000/54000 [==============================] - 3s 61us/step - loss: 0.4196 - acc: 0.8476 - val_loss: 0.3906 - val_acc: 0.8598\n",
            "Epoch 31/40\n",
            "54000/54000 [==============================] - 3s 63us/step - loss: 0.4217 - acc: 0.8467 - val_loss: 0.4069 - val_acc: 0.8572\n",
            "Epoch 32/40\n",
            "54000/54000 [==============================] - 4s 71us/step - loss: 0.4192 - acc: 0.8470 - val_loss: 0.4117 - val_acc: 0.8518\n",
            "Epoch 33/40\n",
            "54000/54000 [==============================] - 3s 63us/step - loss: 0.4147 - acc: 0.8503 - val_loss: 0.4013 - val_acc: 0.8583\n",
            "Epoch 34/40\n",
            "54000/54000 [==============================] - 3s 61us/step - loss: 0.4158 - acc: 0.8470 - val_loss: 0.3935 - val_acc: 0.8627\n",
            "Epoch 35/40\n",
            "54000/54000 [==============================] - 3s 61us/step - loss: 0.4170 - acc: 0.8482 - val_loss: 0.3964 - val_acc: 0.8620\n",
            "Epoch 36/40\n",
            "54000/54000 [==============================] - 3s 61us/step - loss: 0.4114 - acc: 0.8493 - val_loss: 0.4035 - val_acc: 0.8607\n",
            "Epoch 37/40\n",
            "54000/54000 [==============================] - 3s 61us/step - loss: 0.4145 - acc: 0.8486 - val_loss: 0.4051 - val_acc: 0.8577\n",
            "Epoch 38/40\n",
            "54000/54000 [==============================] - 3s 62us/step - loss: 0.4157 - acc: 0.8498 - val_loss: 0.3928 - val_acc: 0.8637\n",
            "Epoch 39/40\n",
            "54000/54000 [==============================] - 3s 62us/step - loss: 0.4113 - acc: 0.8493 - val_loss: 0.4237 - val_acc: 0.8550\n",
            "Epoch 40/40\n",
            "54000/54000 [==============================] - 3s 64us/step - loss: 0.4081 - acc: 0.8514 - val_loss: 0.4024 - val_acc: 0.8587\n",
            "10000/10000 [==============================] - 0s 34us/step\n",
            "60000 train samples\n",
            "10000 test samples\n",
            "_________________________________________________________________\n",
            "Layer (type)                 Output Shape              Param #   \n",
            "=================================================================\n",
            "dense_72 (Dense)             (None, 16)                12560     \n",
            "_________________________________________________________________\n",
            "dropout_23 (Dropout)         (None, 16)                0         \n",
            "_________________________________________________________________\n",
            "dense_73 (Dense)             (None, 16)                272       \n",
            "_________________________________________________________________\n",
            "dropout_24 (Dropout)         (None, 16)                0         \n",
            "_________________________________________________________________\n",
            "dense_74 (Dense)             (None, 8)                 136       \n",
            "_________________________________________________________________\n",
            "dropout_25 (Dropout)         (None, 8)                 0         \n",
            "_________________________________________________________________\n",
            "dense_75 (Dense)             (None, 10)                90        \n",
            "=================================================================\n",
            "Total params: 13,058\n",
            "Trainable params: 13,058\n",
            "Non-trainable params: 0\n",
            "_________________________________________________________________\n",
            "Train on 54000 samples, validate on 6000 samples\n",
            "Epoch 1/40\n",
            "54000/54000 [==============================] - 5s 101us/step - loss: 1.0999 - acc: 0.5793 - val_loss: 0.6194 - val_acc: 0.7695\n",
            "Epoch 2/40\n",
            "54000/54000 [==============================] - 4s 66us/step - loss: 0.7624 - acc: 0.7128 - val_loss: 0.5461 - val_acc: 0.8115\n",
            "Epoch 3/40\n",
            "54000/54000 [==============================] - 4s 65us/step - loss: 0.6900 - acc: 0.7404 - val_loss: 0.5115 - val_acc: 0.8175\n",
            "Epoch 4/40\n",
            "54000/54000 [==============================] - 4s 65us/step - loss: 0.6631 - acc: 0.7507 - val_loss: 0.4974 - val_acc: 0.8197\n",
            "Epoch 5/40\n",
            "54000/54000 [==============================] - 4s 65us/step - loss: 0.6381 - acc: 0.7609 - val_loss: 0.4874 - val_acc: 0.8245\n",
            "Epoch 6/40\n",
            "54000/54000 [==============================] - 4s 65us/step - loss: 0.6282 - acc: 0.7671 - val_loss: 0.4890 - val_acc: 0.8218\n",
            "Epoch 7/40\n",
            "54000/54000 [==============================] - 4s 67us/step - loss: 0.6134 - acc: 0.7717 - val_loss: 0.4834 - val_acc: 0.8263\n",
            "Epoch 8/40\n",
            "54000/54000 [==============================] - 4s 67us/step - loss: 0.6075 - acc: 0.7759 - val_loss: 0.5249 - val_acc: 0.7993\n",
            "Epoch 9/40\n",
            "54000/54000 [==============================] - 4s 69us/step - loss: 0.6035 - acc: 0.7787 - val_loss: 0.4925 - val_acc: 0.8247\n",
            "Epoch 10/40\n",
            "54000/54000 [==============================] - 4s 66us/step - loss: 0.5951 - acc: 0.7806 - val_loss: 0.4864 - val_acc: 0.8297\n",
            "Epoch 11/40\n",
            "54000/54000 [==============================] - 4s 65us/step - loss: 0.5837 - acc: 0.7858 - val_loss: 0.4824 - val_acc: 0.8213\n",
            "Epoch 12/40\n",
            "54000/54000 [==============================] - 4s 65us/step - loss: 0.5829 - acc: 0.7869 - val_loss: 0.4807 - val_acc: 0.8355\n",
            "Epoch 13/40\n",
            "54000/54000 [==============================] - 4s 67us/step - loss: 0.5762 - acc: 0.7894 - val_loss: 0.4671 - val_acc: 0.8367\n",
            "Epoch 14/40\n",
            "54000/54000 [==============================] - 4s 67us/step - loss: 0.5746 - acc: 0.7893 - val_loss: 0.4583 - val_acc: 0.8353\n",
            "Epoch 15/40\n",
            "54000/54000 [==============================] - 4s 67us/step - loss: 0.5720 - acc: 0.7918 - val_loss: 0.4647 - val_acc: 0.8370\n",
            "Epoch 16/40\n",
            "54000/54000 [==============================] - 4s 67us/step - loss: 0.5670 - acc: 0.7908 - val_loss: 0.4887 - val_acc: 0.8277\n",
            "Epoch 17/40\n",
            "54000/54000 [==============================] - 4s 72us/step - loss: 0.5708 - acc: 0.7929 - val_loss: 0.4707 - val_acc: 0.8352\n",
            "Epoch 18/40\n",
            "54000/54000 [==============================] - 4s 74us/step - loss: 0.5619 - acc: 0.7942 - val_loss: 0.4613 - val_acc: 0.8398\n",
            "Epoch 19/40\n",
            "54000/54000 [==============================] - 4s 73us/step - loss: 0.5626 - acc: 0.7944 - val_loss: 0.4540 - val_acc: 0.8405\n",
            "Epoch 20/40\n",
            "54000/54000 [==============================] - 4s 65us/step - loss: 0.5528 - acc: 0.7992 - val_loss: 0.4546 - val_acc: 0.8392\n",
            "Epoch 21/40\n",
            "54000/54000 [==============================] - 4s 65us/step - loss: 0.5509 - acc: 0.7989 - val_loss: 0.4716 - val_acc: 0.8360\n",
            "Epoch 22/40\n",
            "54000/54000 [==============================] - 4s 65us/step - loss: 0.5539 - acc: 0.8006 - val_loss: 0.4702 - val_acc: 0.8365\n",
            "Epoch 23/40\n",
            "54000/54000 [==============================] - 4s 65us/step - loss: 0.5493 - acc: 0.8011 - val_loss: 0.4459 - val_acc: 0.8438\n",
            "Epoch 24/40\n",
            "54000/54000 [==============================] - 4s 66us/step - loss: 0.5471 - acc: 0.8018 - val_loss: 0.4646 - val_acc: 0.8383\n",
            "Epoch 25/40\n",
            "54000/54000 [==============================] - 4s 66us/step - loss: 0.5451 - acc: 0.8026 - val_loss: 0.4598 - val_acc: 0.8410\n",
            "Epoch 26/40\n",
            "54000/54000 [==============================] - 4s 65us/step - loss: 0.5451 - acc: 0.8041 - val_loss: 0.4545 - val_acc: 0.8402\n",
            "Epoch 27/40\n",
            "54000/54000 [==============================] - 4s 66us/step - loss: 0.5452 - acc: 0.8027 - val_loss: 0.4707 - val_acc: 0.8373\n",
            "Epoch 28/40\n",
            "54000/54000 [==============================] - 4s 65us/step - loss: 0.5449 - acc: 0.8031 - val_loss: 0.4734 - val_acc: 0.8323\n",
            "Epoch 29/40\n",
            "54000/54000 [==============================] - 4s 66us/step - loss: 0.5427 - acc: 0.8033 - val_loss: 0.4527 - val_acc: 0.8475\n",
            "Epoch 30/40\n",
            "54000/54000 [==============================] - 4s 67us/step - loss: 0.5448 - acc: 0.8021 - val_loss: 0.4767 - val_acc: 0.8377\n",
            "Epoch 31/40\n",
            "54000/54000 [==============================] - 4s 68us/step - loss: 0.5409 - acc: 0.8041 - val_loss: 0.4485 - val_acc: 0.8383\n",
            "Epoch 32/40\n",
            "54000/54000 [==============================] - 4s 69us/step - loss: 0.5389 - acc: 0.8074 - val_loss: 0.4497 - val_acc: 0.8430\n",
            "Epoch 33/40\n",
            "54000/54000 [==============================] - 4s 69us/step - loss: 0.5344 - acc: 0.8079 - val_loss: 0.4491 - val_acc: 0.8445\n",
            "Epoch 34/40\n",
            "54000/54000 [==============================] - 4s 66us/step - loss: 0.5319 - acc: 0.8093 - val_loss: 0.4639 - val_acc: 0.8397\n",
            "Epoch 35/40\n",
            "54000/54000 [==============================] - 4s 67us/step - loss: 0.5355 - acc: 0.8069 - val_loss: 0.4548 - val_acc: 0.8410\n",
            "Epoch 36/40\n",
            "54000/54000 [==============================] - 4s 67us/step - loss: 0.5309 - acc: 0.8096 - val_loss: 0.4438 - val_acc: 0.8498\n",
            "Epoch 37/40\n",
            "54000/54000 [==============================] - 4s 65us/step - loss: 0.5319 - acc: 0.8079 - val_loss: 0.4519 - val_acc: 0.8423\n",
            "Epoch 38/40\n",
            "54000/54000 [==============================] - 4s 66us/step - loss: 0.5332 - acc: 0.8081 - val_loss: 0.4403 - val_acc: 0.8518\n",
            "Epoch 39/40\n",
            "54000/54000 [==============================] - 4s 65us/step - loss: 0.5312 - acc: 0.8099 - val_loss: 0.4535 - val_acc: 0.8442\n",
            "Epoch 40/40\n",
            "54000/54000 [==============================] - 4s 66us/step - loss: 0.5267 - acc: 0.8122 - val_loss: 0.4485 - val_acc: 0.8483\n",
            "10000/10000 [==============================] - 0s 34us/step\n"
          ],
          "name": "stdout"
        }
      ]
    },
    {
      "metadata": {
        "id": "g0i86oHDPppr",
        "colab_type": "code",
        "colab": {
          "base_uri": "https://localhost:8080/",
          "height": 1700
        },
        "outputId": "90400aa3-c9e4-4827-9cfe-efebedce2ad8"
      },
      "cell_type": "code",
      "source": [
        "model_spec = {'type': 'sequential',\n",
        "              'layers': [{'type': 'dense', 'nodes': 8, 'activation': 'relu', 'input_shape': (784,)},\n",
        "#                          {'type': 'dropout', 'fraction': 0.1},\n",
        "                         {'type': 'dense', 'nodes': 8, 'activation': 'relu'},\n",
        "#                          {'type': 'dropout', 'fraction': 0.1},\n",
        "                         {'type': 'dense', 'nodes': 8, 'activation': 'relu'},\n",
        "#                          {'type': 'dropout', 'fraction': 0.1},\n",
        "                         {'type': 'dense', 'nodes': num_classes, 'activation': 'softmax'}]}\n",
        "\n",
        "history, scores = run_network(32, 40, model_spec)\n",
        "all_histories.append(history)\n",
        "all_scores.append(scores)"
      ],
      "execution_count": 246,
      "outputs": [
        {
          "output_type": "stream",
          "text": [
            "60000 train samples\n",
            "10000 test samples\n",
            "_________________________________________________________________\n",
            "Layer (type)                 Output Shape              Param #   \n",
            "=================================================================\n",
            "dense_76 (Dense)             (None, 8)                 6280      \n",
            "_________________________________________________________________\n",
            "dense_77 (Dense)             (None, 8)                 72        \n",
            "_________________________________________________________________\n",
            "dense_78 (Dense)             (None, 8)                 72        \n",
            "_________________________________________________________________\n",
            "dense_79 (Dense)             (None, 10)                90        \n",
            "=================================================================\n",
            "Total params: 6,514\n",
            "Trainable params: 6,514\n",
            "Non-trainable params: 0\n",
            "_________________________________________________________________\n",
            "Train on 54000 samples, validate on 6000 samples\n",
            "Epoch 1/40\n",
            "54000/54000 [==============================] - 6s 103us/step - loss: 0.8191 - acc: 0.7018 - val_loss: 0.5785 - val_acc: 0.7928\n",
            "Epoch 2/40\n",
            "54000/54000 [==============================] - 3s 59us/step - loss: 0.5622 - acc: 0.7984 - val_loss: 0.5239 - val_acc: 0.8130\n",
            "Epoch 3/40\n",
            "54000/54000 [==============================] - 3s 59us/step - loss: 0.5216 - acc: 0.8179 - val_loss: 0.5191 - val_acc: 0.8170\n",
            "Epoch 4/40\n",
            "54000/54000 [==============================] - 3s 59us/step - loss: 0.4942 - acc: 0.8267 - val_loss: 0.5002 - val_acc: 0.8190\n",
            "Epoch 5/40\n",
            "54000/54000 [==============================] - 3s 59us/step - loss: 0.4718 - acc: 0.8348 - val_loss: 0.4779 - val_acc: 0.8303\n",
            "Epoch 6/40\n",
            "54000/54000 [==============================] - 3s 58us/step - loss: 0.4536 - acc: 0.8412 - val_loss: 0.4660 - val_acc: 0.8348\n",
            "Epoch 7/40\n",
            "54000/54000 [==============================] - 3s 58us/step - loss: 0.4398 - acc: 0.8456 - val_loss: 0.4487 - val_acc: 0.8388\n",
            "Epoch 8/40\n",
            "54000/54000 [==============================] - 3s 58us/step - loss: 0.4313 - acc: 0.8492 - val_loss: 0.4406 - val_acc: 0.8423\n",
            "Epoch 9/40\n",
            "54000/54000 [==============================] - 3s 58us/step - loss: 0.4218 - acc: 0.8520 - val_loss: 0.4359 - val_acc: 0.8455\n",
            "Epoch 10/40\n",
            "54000/54000 [==============================] - 3s 59us/step - loss: 0.4157 - acc: 0.8533 - val_loss: 0.4559 - val_acc: 0.8405\n",
            "Epoch 11/40\n",
            "54000/54000 [==============================] - 3s 59us/step - loss: 0.4107 - acc: 0.8575 - val_loss: 0.4339 - val_acc: 0.8507\n",
            "Epoch 12/40\n",
            "54000/54000 [==============================] - 3s 59us/step - loss: 0.4051 - acc: 0.8570 - val_loss: 0.4505 - val_acc: 0.8415\n",
            "Epoch 13/40\n",
            "54000/54000 [==============================] - 3s 59us/step - loss: 0.4022 - acc: 0.8588 - val_loss: 0.4281 - val_acc: 0.8510\n",
            "Epoch 14/40\n",
            "54000/54000 [==============================] - 3s 58us/step - loss: 0.3967 - acc: 0.8612 - val_loss: 0.4164 - val_acc: 0.8522\n",
            "Epoch 15/40\n",
            "54000/54000 [==============================] - 3s 60us/step - loss: 0.3950 - acc: 0.8624 - val_loss: 0.4339 - val_acc: 0.8458\n",
            "Epoch 16/40\n",
            "54000/54000 [==============================] - 3s 59us/step - loss: 0.3910 - acc: 0.8640 - val_loss: 0.4258 - val_acc: 0.8487\n",
            "Epoch 17/40\n",
            "54000/54000 [==============================] - 3s 59us/step - loss: 0.3895 - acc: 0.8638 - val_loss: 0.4310 - val_acc: 0.8455\n",
            "Epoch 18/40\n",
            "54000/54000 [==============================] - 3s 58us/step - loss: 0.3860 - acc: 0.8637 - val_loss: 0.4235 - val_acc: 0.8522\n",
            "Epoch 19/40\n",
            "54000/54000 [==============================] - 3s 60us/step - loss: 0.3830 - acc: 0.8646 - val_loss: 0.4161 - val_acc: 0.8553\n",
            "Epoch 20/40\n",
            "54000/54000 [==============================] - 3s 59us/step - loss: 0.3809 - acc: 0.8659 - val_loss: 0.4132 - val_acc: 0.8598\n",
            "Epoch 21/40\n",
            "54000/54000 [==============================] - 3s 59us/step - loss: 0.3778 - acc: 0.8676 - val_loss: 0.4120 - val_acc: 0.8537\n",
            "Epoch 22/40\n",
            "54000/54000 [==============================] - 3s 59us/step - loss: 0.3770 - acc: 0.8677 - val_loss: 0.4228 - val_acc: 0.8540\n",
            "Epoch 23/40\n",
            "54000/54000 [==============================] - 3s 60us/step - loss: 0.3746 - acc: 0.8681 - val_loss: 0.4077 - val_acc: 0.8570\n",
            "Epoch 24/40\n",
            "54000/54000 [==============================] - 3s 60us/step - loss: 0.3738 - acc: 0.8687 - val_loss: 0.4774 - val_acc: 0.8362\n",
            "Epoch 25/40\n",
            "54000/54000 [==============================] - 3s 60us/step - loss: 0.3718 - acc: 0.8693 - val_loss: 0.4189 - val_acc: 0.8550\n",
            "Epoch 26/40\n",
            "54000/54000 [==============================] - 3s 59us/step - loss: 0.3702 - acc: 0.8693 - val_loss: 0.4205 - val_acc: 0.8565\n",
            "Epoch 27/40\n",
            "54000/54000 [==============================] - 3s 59us/step - loss: 0.3694 - acc: 0.8711 - val_loss: 0.4054 - val_acc: 0.8598\n",
            "Epoch 28/40\n",
            "54000/54000 [==============================] - 3s 59us/step - loss: 0.3665 - acc: 0.8715 - val_loss: 0.4119 - val_acc: 0.8538\n",
            "Epoch 29/40\n",
            "54000/54000 [==============================] - 3s 58us/step - loss: 0.3658 - acc: 0.8718 - val_loss: 0.4070 - val_acc: 0.8603\n",
            "Epoch 30/40\n",
            "54000/54000 [==============================] - 3s 59us/step - loss: 0.3644 - acc: 0.8724 - val_loss: 0.4105 - val_acc: 0.8607\n",
            "Epoch 31/40\n",
            "54000/54000 [==============================] - 4s 66us/step - loss: 0.3643 - acc: 0.8721 - val_loss: 0.4060 - val_acc: 0.8605\n",
            "Epoch 32/40\n",
            "54000/54000 [==============================] - 4s 66us/step - loss: 0.3605 - acc: 0.8730 - val_loss: 0.4208 - val_acc: 0.8570\n",
            "Epoch 33/40\n",
            "54000/54000 [==============================] - 3s 64us/step - loss: 0.3602 - acc: 0.8726 - val_loss: 0.4243 - val_acc: 0.8545\n",
            "Epoch 34/40\n",
            "54000/54000 [==============================] - 3s 59us/step - loss: 0.3584 - acc: 0.8734 - val_loss: 0.4161 - val_acc: 0.8548\n",
            "Epoch 35/40\n",
            "54000/54000 [==============================] - 3s 59us/step - loss: 0.3579 - acc: 0.8734 - val_loss: 0.4210 - val_acc: 0.8580\n",
            "Epoch 36/40\n",
            "54000/54000 [==============================] - 3s 59us/step - loss: 0.3567 - acc: 0.8729 - val_loss: 0.4111 - val_acc: 0.8618\n",
            "Epoch 37/40\n",
            "54000/54000 [==============================] - 3s 58us/step - loss: 0.3563 - acc: 0.8741 - val_loss: 0.4179 - val_acc: 0.8527\n",
            "Epoch 38/40\n",
            "54000/54000 [==============================] - 3s 59us/step - loss: 0.3544 - acc: 0.8736 - val_loss: 0.4054 - val_acc: 0.8638\n",
            "Epoch 39/40\n",
            "54000/54000 [==============================] - 3s 58us/step - loss: 0.3536 - acc: 0.8746 - val_loss: 0.4168 - val_acc: 0.8588\n",
            "Epoch 40/40\n",
            "54000/54000 [==============================] - 3s 59us/step - loss: 0.3533 - acc: 0.8739 - val_loss: 0.4180 - val_acc: 0.8595\n",
            "10000/10000 [==============================] - 0s 32us/step\n"
          ],
          "name": "stdout"
        }
      ]
    },
    {
      "metadata": {
        "id": "gVfvplVo8KTn",
        "colab_type": "code",
        "colab": {
          "base_uri": "https://localhost:8080/",
          "height": 1836
        },
        "outputId": "a16f2ff3-5a94-4140-9d85-eb4347a79b96"
      },
      "cell_type": "code",
      "source": [
        "model_spec = {'type': 'sequential',\n",
        "              'layers': [{'type': 'dense', 'nodes': 8, 'activation': 'relu', 'input_shape': (784,)},\n",
        "#                          {'type': 'dropout', 'fraction': 0.1},\n",
        "                         {'type': 'dense', 'nodes': 8, 'activation': 'relu'},\n",
        "#                          {'type': 'dropout', 'fraction': 0.1},\n",
        "                         {'type': 'dense', 'nodes': 8, 'activation': 'relu'},\n",
        "#                          {'type': 'dropout', 'fraction': 0.1},\n",
        "                         {'type': 'dense', 'nodes': 8, 'activation': 'relu'},\n",
        "                         {'type': 'dense', 'nodes': 8, 'activation': 'relu'},\n",
        "                         {'type': 'dense', 'nodes': 8, 'activation': 'relu'},\n",
        "                         {'type': 'dense', 'nodes': 8, 'activation': 'relu'},\n",
        "                         {'type': 'dense', 'nodes': num_classes, 'activation': 'softmax'}]}\n",
        "\n",
        "history, scores = run_network(32, 40, model_spec)\n",
        "all_histories.append(history)\n",
        "all_scores.append(scores)"
      ],
      "execution_count": 247,
      "outputs": [
        {
          "output_type": "stream",
          "text": [
            "60000 train samples\n",
            "10000 test samples\n",
            "_________________________________________________________________\n",
            "Layer (type)                 Output Shape              Param #   \n",
            "=================================================================\n",
            "dense_80 (Dense)             (None, 8)                 6280      \n",
            "_________________________________________________________________\n",
            "dense_81 (Dense)             (None, 8)                 72        \n",
            "_________________________________________________________________\n",
            "dense_82 (Dense)             (None, 8)                 72        \n",
            "_________________________________________________________________\n",
            "dense_83 (Dense)             (None, 8)                 72        \n",
            "_________________________________________________________________\n",
            "dense_84 (Dense)             (None, 8)                 72        \n",
            "_________________________________________________________________\n",
            "dense_85 (Dense)             (None, 8)                 72        \n",
            "_________________________________________________________________\n",
            "dense_86 (Dense)             (None, 8)                 72        \n",
            "_________________________________________________________________\n",
            "dense_87 (Dense)             (None, 10)                90        \n",
            "=================================================================\n",
            "Total params: 6,802\n",
            "Trainable params: 6,802\n",
            "Non-trainable params: 0\n",
            "_________________________________________________________________\n",
            "Train on 54000 samples, validate on 6000 samples\n",
            "Epoch 1/40\n",
            "54000/54000 [==============================] - 6s 108us/step - loss: 1.1287 - acc: 0.5611 - val_loss: 0.7899 - val_acc: 0.6845\n",
            "Epoch 2/40\n",
            "54000/54000 [==============================] - 4s 67us/step - loss: 0.7096 - acc: 0.7436 - val_loss: 0.6571 - val_acc: 0.7708\n",
            "Epoch 3/40\n",
            "54000/54000 [==============================] - 4s 67us/step - loss: 0.6252 - acc: 0.7788 - val_loss: 0.5995 - val_acc: 0.7930\n",
            "Epoch 4/40\n",
            "54000/54000 [==============================] - 4s 68us/step - loss: 0.5854 - acc: 0.7934 - val_loss: 0.6133 - val_acc: 0.7922\n",
            "Epoch 5/40\n",
            "54000/54000 [==============================] - 4s 67us/step - loss: 0.5568 - acc: 0.8060 - val_loss: 0.5629 - val_acc: 0.8042\n",
            "Epoch 6/40\n",
            "54000/54000 [==============================] - 4s 70us/step - loss: 0.5363 - acc: 0.8134 - val_loss: 0.5414 - val_acc: 0.8033\n",
            "Epoch 7/40\n",
            "54000/54000 [==============================] - 4s 68us/step - loss: 0.5141 - acc: 0.8203 - val_loss: 0.5336 - val_acc: 0.8152\n",
            "Epoch 8/40\n",
            "54000/54000 [==============================] - 4s 69us/step - loss: 0.4996 - acc: 0.8253 - val_loss: 0.4962 - val_acc: 0.8262\n",
            "Epoch 9/40\n",
            "54000/54000 [==============================] - 4s 67us/step - loss: 0.4877 - acc: 0.8288 - val_loss: 0.4828 - val_acc: 0.8295\n",
            "Epoch 10/40\n",
            "54000/54000 [==============================] - 4s 66us/step - loss: 0.4717 - acc: 0.8339 - val_loss: 0.5178 - val_acc: 0.8237\n",
            "Epoch 11/40\n",
            "54000/54000 [==============================] - 4s 67us/step - loss: 0.4645 - acc: 0.8355 - val_loss: 0.4734 - val_acc: 0.8343\n",
            "Epoch 12/40\n",
            "54000/54000 [==============================] - 4s 67us/step - loss: 0.4541 - acc: 0.8396 - val_loss: 0.4605 - val_acc: 0.8347\n",
            "Epoch 13/40\n",
            "54000/54000 [==============================] - 4s 67us/step - loss: 0.4494 - acc: 0.8409 - val_loss: 0.4626 - val_acc: 0.8338\n",
            "Epoch 14/40\n",
            "54000/54000 [==============================] - 4s 68us/step - loss: 0.4413 - acc: 0.8426 - val_loss: 0.4629 - val_acc: 0.8357\n",
            "Epoch 15/40\n",
            "54000/54000 [==============================] - 4s 68us/step - loss: 0.4364 - acc: 0.8461 - val_loss: 0.4840 - val_acc: 0.8263\n",
            "Epoch 16/40\n",
            "54000/54000 [==============================] - 4s 67us/step - loss: 0.4313 - acc: 0.8466 - val_loss: 0.4606 - val_acc: 0.8400\n",
            "Epoch 17/40\n",
            "54000/54000 [==============================] - 4s 68us/step - loss: 0.4291 - acc: 0.8475 - val_loss: 0.4480 - val_acc: 0.8440\n",
            "Epoch 18/40\n",
            "54000/54000 [==============================] - 4s 68us/step - loss: 0.4200 - acc: 0.8519 - val_loss: 0.5056 - val_acc: 0.8245\n",
            "Epoch 19/40\n",
            "54000/54000 [==============================] - 4s 69us/step - loss: 0.4168 - acc: 0.8514 - val_loss: 0.4513 - val_acc: 0.8423\n",
            "Epoch 20/40\n",
            "54000/54000 [==============================] - 4s 68us/step - loss: 0.4132 - acc: 0.8544 - val_loss: 0.4485 - val_acc: 0.8482\n",
            "Epoch 21/40\n",
            "54000/54000 [==============================] - 4s 69us/step - loss: 0.4079 - acc: 0.8544 - val_loss: 0.4399 - val_acc: 0.8470\n",
            "Epoch 22/40\n",
            "54000/54000 [==============================] - 4s 68us/step - loss: 0.4063 - acc: 0.8569 - val_loss: 0.4510 - val_acc: 0.8453\n",
            "Epoch 23/40\n",
            "54000/54000 [==============================] - 4s 69us/step - loss: 0.4049 - acc: 0.8570 - val_loss: 0.4725 - val_acc: 0.8322\n",
            "Epoch 24/40\n",
            "54000/54000 [==============================] - 4s 68us/step - loss: 0.4009 - acc: 0.8572 - val_loss: 0.4907 - val_acc: 0.8308\n",
            "Epoch 25/40\n",
            "54000/54000 [==============================] - 4s 68us/step - loss: 0.3977 - acc: 0.8584 - val_loss: 0.4427 - val_acc: 0.8497\n",
            "Epoch 26/40\n",
            "54000/54000 [==============================] - 4s 69us/step - loss: 0.3965 - acc: 0.8592 - val_loss: 0.4314 - val_acc: 0.8510\n",
            "Epoch 27/40\n",
            "54000/54000 [==============================] - 4s 69us/step - loss: 0.3928 - acc: 0.8616 - val_loss: 0.4375 - val_acc: 0.8453\n",
            "Epoch 28/40\n",
            "54000/54000 [==============================] - 4s 69us/step - loss: 0.3905 - acc: 0.8624 - val_loss: 0.4334 - val_acc: 0.8493\n",
            "Epoch 29/40\n",
            "54000/54000 [==============================] - 4s 69us/step - loss: 0.3872 - acc: 0.8639 - val_loss: 0.4261 - val_acc: 0.8495\n",
            "Epoch 30/40\n",
            "54000/54000 [==============================] - 4s 67us/step - loss: 0.3863 - acc: 0.8635 - val_loss: 0.4671 - val_acc: 0.8378\n",
            "Epoch 31/40\n",
            "54000/54000 [==============================] - 4s 68us/step - loss: 0.3862 - acc: 0.8623 - val_loss: 0.4320 - val_acc: 0.8467\n",
            "Epoch 32/40\n",
            "54000/54000 [==============================] - 4s 67us/step - loss: 0.3843 - acc: 0.8635 - val_loss: 0.4319 - val_acc: 0.8522\n",
            "Epoch 33/40\n",
            "54000/54000 [==============================] - 4s 67us/step - loss: 0.3823 - acc: 0.8653 - val_loss: 0.4555 - val_acc: 0.8468\n",
            "Epoch 34/40\n",
            "54000/54000 [==============================] - 4s 68us/step - loss: 0.3827 - acc: 0.8645 - val_loss: 0.4279 - val_acc: 0.8510\n",
            "Epoch 35/40\n",
            "54000/54000 [==============================] - 4s 67us/step - loss: 0.3790 - acc: 0.8654 - val_loss: 0.4242 - val_acc: 0.8522\n",
            "Epoch 36/40\n",
            "54000/54000 [==============================] - 4s 67us/step - loss: 0.3786 - acc: 0.8667 - val_loss: 0.4525 - val_acc: 0.8450\n",
            "Epoch 37/40\n",
            "54000/54000 [==============================] - 4s 66us/step - loss: 0.3755 - acc: 0.8676 - val_loss: 0.4406 - val_acc: 0.8492\n",
            "Epoch 38/40\n",
            "54000/54000 [==============================] - 4s 66us/step - loss: 0.3759 - acc: 0.8664 - val_loss: 0.4355 - val_acc: 0.8512\n",
            "Epoch 39/40\n",
            "54000/54000 [==============================] - 4s 68us/step - loss: 0.3743 - acc: 0.8672 - val_loss: 0.4350 - val_acc: 0.8497\n",
            "Epoch 40/40\n",
            "54000/54000 [==============================] - 4s 74us/step - loss: 0.3721 - acc: 0.8680 - val_loss: 0.4345 - val_acc: 0.8493\n",
            "10000/10000 [==============================] - 0s 43us/step\n"
          ],
          "name": "stdout"
        }
      ]
    },
    {
      "metadata": {
        "id": "ysZ6esND8KWA",
        "colab_type": "code",
        "colab": {
          "base_uri": "https://localhost:8080/",
          "height": 361
        },
        "outputId": "b94f2c7c-8828-4b59-9dde-ca25fe0984f8"
      },
      "cell_type": "code",
      "source": [
        "markers = ['b-', 'g-', 'r-', 'c-', 'm-', 'y-', 'k-']\n",
        "for i in range(len(all_histories)):\n",
        "  training_loss = history.history['loss']\n",
        "  epoch_count = range(1, len(training_loss) + 1)\n",
        "\n",
        "  plt.plot(epoch_count, training_loss, markers[i])\n",
        "\n",
        "plt.xlabel('epoch')\n",
        "plt.ylabel('loss')\n",
        "plt.show()"
      ],
      "execution_count": 248,
      "outputs": [
        {
          "output_type": "display_data",
          "data": {
            "image/png": "[encoded data removed]",
            "text/plain": [
              "<Figure size 576x396 with 1 Axes>"
            ]
          },
          "metadata": {
            "tags": []
          }
        }
      ]
    },
    {
      "metadata": {
        "id": "Ju50q7L38KYP",
        "colab_type": "code",
        "colab": {
          "base_uri": "https://localhost:8080/",
          "height": 361
        },
        "outputId": "dd1d5df8-d73b-4d89-ace6-1c55fe36ca9f"
      },
      "cell_type": "code",
      "source": [
        "markers = ['b-', 'g-', 'r-', 'c-', 'm-', 'y-', 'k-']\n",
        "for i in range(len(all_histories)):\n",
        "  training_accuracy = history.history['acc']\n",
        "  epoch_count = range(1, len(training_accuracy) + 1)\n",
        "\n",
        "  plt.plot(epoch_count, training_accuracy, markers[i])\n",
        "\n",
        "plt.xlabel('epoch')\n",
        "plt.ylabel('accuracy')\n",
        "plt.show()"
      ],
      "execution_count": 249,
      "outputs": [
        {
          "output_type": "display_data",
          "data": {
            "image/png": "[encoded data removed]",
            "text/plain": [
              "<Figure size 576x396 with 1 Axes>"
            ]
          },
          "metadata": {
            "tags": []
          }
        }
      ]
    },
    {
      "metadata": {
        "id": "IKxQ9zjUINeS",
        "colab_type": "text"
      },
      "cell_type": "markdown",
      "source": [
        "### Our loss and accuracy functions are right on top of each other. So we could have used the least number of epochs and most number of batch size to select our model.\n",
        "\n",
        "### Even after changing the number of nodes and the number of hidden layers, we don't see any changes in the curves."
      ]
    },
    {
      "metadata": {
        "id": "zv_3xNMjzdLI",
        "colab_type": "text"
      },
      "cell_type": "markdown",
      "source": [
        "## Stretch Goals:\n",
        "\n",
        "- Use Hyperparameter Tuning to make the accuracy of your models as high as possible. (error as low as possible)\n",
        "- Use Cross Validation techniques to get more consistent results with your model.\n",
        "- Use GridSearchCV to try different combinations of hyperparameters. \n",
        "- Start looking into other types of Keras layers for CNNs and RNNs maybe try and build a CNN model for fashion-MNIST to see how the results compare."
      ]
    }
  ]
}